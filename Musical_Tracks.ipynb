{
 "cells": [
  {
   "cell_type": "markdown",
   "id": "b26fdb96-5311-41d2-8160-2857e2f1a58e",
   "metadata": {},
   "source": [
    "# University of Michigan Intermediate PostgreSQL Week 2 Exercise\n",
    "\n",
    "## Musical Tracks Many-to-One\n",
    "\n",
    "This application will read an iTunes library in comma-separated-values (CSV) format and produce properly normalized tables as specified below. \n",
    "\n",
    "Here is the structure of the tables you will need for this assignment:\n",
    "\n",
    "```SQL\n",
    "CREATE TABLE album (\n",
    "  id SERIAL,\n",
    "  title VARCHAR(128) UNIQUE,\n",
    "  PRIMARY KEY(id)\n",
    ");\n",
    "\n",
    "CREATE TABLE track (\n",
    "    id SERIAL,\n",
    "    title VARCHAR(128),\n",
    "    len INTEGER, rating INTEGER, count INTEGER,\n",
    "    album_id INTEGER REFERENCES album(id) ON DELETE CASCADE,\n",
    "    UNIQUE(title, album_id),\n",
    "    PRIMARY KEY(id)\n",
    ");\n",
    "\n",
    "DROP TABLE IF EXISTS track_raw;\n",
    "CREATE TABLE track_raw (\n",
    "    title TEXT, \n",
    "    artist TEXT, \n",
    "    album TEXT, \n",
    "    album_id INTEGER,\n",
    "    count INTEGER, \n",
    "    rating INTEGER, \n",
    "    len INTEGER\n",
    ");\n",
    "```\n",
    "\n",
    "We will ignore the artist field for this assignment and focus on the many-to-one relationship between tracks and albums.\n",
    "If you run the program multiple times in testing or with different files, make sure to empty out the data before each run.\n",
    "\n",
    "Your assignment consists of the following after creating the tables above:\n",
    "\n",
    "1. Load <a href = 'https://www.pg4e.com/tools/sql/library.csv?PHPSESSID=d19b381f98606474b340f9f53d19889d%22'>this CSV data file,</a> into the `track_raw` table using the `\\copy` command. \n",
    "\n",
    "2. Write SQL commands to insert all of the <b>distinct</b> albums into the <span style='color:green'>album table</span>  (creating their primary keys).\n",
    "\n",
    "3. <b>Set</b> the <span style='color:pink'>album_id</span> in the <span style='color:green'>track_raw table</span> using an SQL query like:\n",
    "```SQL \n",
    "UPDATE track_raw SET album_id = (SELECT album.id FROM album WHERE album.title = track_raw.album);\n",
    "```\n",
    "\n",
    "4. Use an `INSERT ... SELECT` statement to copy the corresponding data from the <span style='color:green'>track_raw table </span> to the <span style='color:green'>track table</span>, effectively dropping the artist and album text fields.\n",
    "\n",
    "5. To grade this assignment, the auto-grader will run a query like this on your database:\n",
    " \n",
    "```SQL\n",
    "SELECT track.title, album.title\n",
    "    FROM track\n",
    "    JOIN album ON track.album_id = album.id\n",
    "    ORDER BY track.title LIMIT 3;\n",
    "```    \n",
    "The expected result of this query on your database is:\n",
    "\n",
    "| track\t| album |\n",
    "| :---- | :---- |\n",
    "| A Boy Named Sue (live) | The Legend Of Johnny Cash |\n",
    "| A Brief History of Packets | Computing Conversations |\n",
    "| Aguas De Marco | Natural Wonders Music Sampler 1999 |\n"
   ]
  },
  {
   "cell_type": "markdown",
   "id": "c99d4ee2-3483-49a5-ab1e-fa2d02fdcd6e",
   "metadata": {},
   "source": [
    "This notebook uses both the IPython magic `%sql` and `%%sql` as well as the Psycopg2 DBAPI.  The reason why I chose to use both is because I like the simplicity of the IPython magic but I haven't figured out a way to copy CSV files using the magics.  Thus, I have to rely on Psycopg2's interface for this purpose.  "
   ]
  },
  {
   "cell_type": "markdown",
   "id": "ad727bf8-cd53-4fa9-b97d-18682d40785d",
   "metadata": {},
   "source": [
    "### Setting Up The Connection"
   ]
  },
  {
   "cell_type": "code",
   "execution_count": 1,
   "id": "87867765-7b29-4643-9f8b-3019e2c475f5",
   "metadata": {},
   "outputs": [],
   "source": [
    "# Import necessary libraries\n",
    "# courses_db_user_julia contains the PostgreSQL settings as a dictionary file for privacy \n",
    "# Import some libraries\n",
    "\n",
    "import sqlalchemy\n",
    "from sqlalchemy import create_engine\n",
    "from sqlalchemy.orm import sessionmaker\n",
    "from courses_db_user_julia import postgresql as settings\n",
    "from pgspecial.main import PGSpecial\n",
    "import psycopg2 as ps\n",
    "import pandas as pd"
   ]
  },
  {
   "cell_type": "code",
   "execution_count": 2,
   "id": "b06ef444-e5b4-4e11-89da-47326b7158f0",
   "metadata": {},
   "outputs": [
    {
     "data": {
      "text/plain": [
       "'1.4.46'"
      ]
     },
     "execution_count": 2,
     "metadata": {},
     "output_type": "execute_result"
    }
   ],
   "source": [
    "# Get Version\n",
    "\n",
    "sqlalchemy.__version__ "
   ]
  },
  {
   "cell_type": "code",
   "execution_count": 3,
   "id": "a6ca1ec6-3d17-458c-9913-13b1a6e1d178",
   "metadata": {},
   "outputs": [],
   "source": [
    "# Create a get_engine function to get our credentials and create an engine\n",
    "\n",
    "def get_engine(user, passwd, host, port, db):\n",
    "    url = f\"postgresql://{user}:{passwd}@{host}:{port}/{db}\"\n",
    "    engine = create_engine(url)\n",
    "    return engine"
   ]
  },
  {
   "cell_type": "code",
   "execution_count": 4,
   "id": "cac89178-acf7-458b-a30e-55f077c82312",
   "metadata": {},
   "outputs": [],
   "source": [
    "engine = get_engine(settings['user'],\n",
    "                    settings['password'],\n",
    "                    settings['host'],\n",
    "                    settings['port'],\n",
    "                    settings['dbname'])"
   ]
  },
  {
   "cell_type": "code",
   "execution_count": 5,
   "id": "99f971c4-e966-496f-87cb-9efc676f072e",
   "metadata": {},
   "outputs": [
    {
     "data": {
      "text/plain": [
       "<sqlalchemy.orm.session.Session at 0x7fcfb9ffafd0>"
      ]
     },
     "execution_count": 5,
     "metadata": {},
     "output_type": "execute_result"
    }
   ],
   "source": [
    "# Start Session\n",
    "\n",
    "session = sessionmaker(bind=engine)()\n",
    "session"
   ]
  },
  {
   "cell_type": "markdown",
   "id": "b8448819-a6a9-4669-abe3-564aa0d30d3e",
   "metadata": {},
   "source": [
    "#### IPython Magic!"
   ]
  },
  {
   "cell_type": "code",
   "execution_count": 6,
   "id": "ea26d5b5-373c-4862-91a1-7150d4daae6a",
   "metadata": {},
   "outputs": [],
   "source": [
    "# Load IPython-SQL module\n",
    "\n",
    "%load_ext sql"
   ]
  },
  {
   "cell_type": "code",
   "execution_count": 7,
   "id": "906e1e57-82ff-4db9-8c73-4db858c3051c",
   "metadata": {
    "tags": []
   },
   "outputs": [],
   "source": [
    "# Create the connection using $\n",
    "# The $ is a special character in IPython SQL that encloses variables with quotes\n",
    "\n",
    "%sql $engine.url"
   ]
  },
  {
   "cell_type": "code",
   "execution_count": 8,
   "id": "269d0ac9-3df3-4b35-9e44-ca37606a1bb1",
   "metadata": {},
   "outputs": [],
   "source": [
    "# Remove connection display when using magics\n",
    "\n",
    "%config SqlMagic.displaycon = False"
   ]
  },
  {
   "cell_type": "markdown",
   "id": "4fd014e5-c4ca-48ea-ba66-665594c1776d",
   "metadata": {},
   "source": [
    "### 0. Create Tables\n",
    "\n",
    "Per the instructions above, we are to create 3 tables:\n",
    "\n",
    "- album\n",
    "- track\n",
    "- track_raw\n",
    "\n",
    "There is one error in the code above for the `track_raw` table.  It already contains an `album_id` column.  However, the csv file does not contain album_id data.  This particular column will be \"self-generated\" later."
   ]
  },
  {
   "cell_type": "code",
   "execution_count": 9,
   "id": "8f9e545b-007b-49e6-8f94-ba658c604542",
   "metadata": {
    "tags": []
   },
   "outputs": [
    {
     "name": "stdout",
     "output_type": "stream",
     "text": [
      "Done.\n",
      "Done.\n",
      "Done.\n",
      "Done.\n",
      "Done.\n",
      "Done.\n"
     ]
    },
    {
     "data": {
      "text/plain": [
       "[]"
      ]
     },
     "execution_count": 9,
     "metadata": {},
     "output_type": "execute_result"
    }
   ],
   "source": [
    "%%sql\n",
    "\n",
    "DROP TABLE IF EXISTS album CASCADE;\n",
    "CREATE TABLE album (\n",
    "  id SERIAL,\n",
    "  title VARCHAR(128) UNIQUE,\n",
    "  PRIMARY KEY(id)\n",
    ");\n",
    "\n",
    "DROP TABLE IF EXISTS track CASCADE;\n",
    "CREATE TABLE track (\n",
    "    id SERIAL,\n",
    "    title VARCHAR(128),\n",
    "    len INTEGER, rating INTEGER, count INTEGER,\n",
    "    album_id INTEGER REFERENCES album(id) ON DELETE CASCADE,\n",
    "    UNIQUE(title, album_id),\n",
    "    PRIMARY KEY(id)\n",
    ");\n",
    "\n",
    "DROP TABLE IF EXISTS track_raw CASCADE;\n",
    "CREATE TABLE track_raw (\n",
    "    title TEXT, \n",
    "    artist TEXT, \n",
    "    album TEXT,\n",
    "    count INTEGER, \n",
    "    rating INTEGER, \n",
    "    len INTEGER\n",
    "); "
   ]
  },
  {
   "cell_type": "markdown",
   "id": "21276e8e-8ca4-4ee5-a269-935f28391d09",
   "metadata": {},
   "source": [
    "### 1. Copy 'library.csv' File Into Database\n",
    "\n",
    "Now we need to copy the <span style='color:pink'>track_raw data</span> into the <span style='color:green'>track_raw table</span>.  This can be done using the `\\copy` function in the PostgreSQL psql <b><u>terminal</u></b>.  The reason we use `\\copy` as opposed to `COPY` is because `COPY FROM` instructs the PostgreSQL <b>server</b> process to read a file. Whereas the `\\copy` is used on the <b>client</b> side.\n",
    "\n",
    "However, this doesn't seem to work here using IPython magic.  So, we will use Psycopg2.  The basic steps are:\n",
    "\n",
    "- 1a) Create a Psycopg2 connection object\n",
    "- 1b) Create a dump file object\n",
    "- 1c) Create a cursor object\n",
    "- 1d) Use the `cursor.copy_expert()` function to copy the csv file"
   ]
  },
  {
   "cell_type": "markdown",
   "id": "429477ff-921d-40a1-9609-801f94c16c34",
   "metadata": {},
   "source": [
    "#### 1a) Create a Psycopg2 connection object"
   ]
  },
  {
   "cell_type": "code",
   "execution_count": 10,
   "id": "828ddc16-9dd6-42df-a274-4b2e77d2082a",
   "metadata": {},
   "outputs": [],
   "source": [
    "conn = ps.connect(user=settings['user'],\n",
    "                  password=settings['password'],\n",
    "                  host=settings['host'],\n",
    "                  port=settings['port'],\n",
    "                  dbname=settings['dbname'])"
   ]
  },
  {
   "cell_type": "markdown",
   "id": "4d786852-25a4-4a02-a059-7edb96e35f53",
   "metadata": {},
   "source": [
    "#### 1b) Create a dump file object"
   ]
  },
  {
   "cell_type": "code",
   "execution_count": 11,
   "id": "25d039ec-7e27-445d-bf53-9d1b3dae9289",
   "metadata": {},
   "outputs": [],
   "source": [
    "# Create a file object where we will dump our csv file to \n",
    "# This will allow us to copy the dump into our table\n",
    "\n",
    "file_obj = open('/mnt/a/docker_share/SQL/library.csv', 'r') "
   ]
  },
  {
   "cell_type": "markdown",
   "id": "04ab82b9-8165-4715-a95a-f731e6cd8abd",
   "metadata": {},
   "source": [
    "#### 1c) Create a cursor object\n",
    "\n",
    "Psycopg2 requires the use of a cursor object in order to execute commands to the PostgreSQL server."
   ]
  },
  {
   "cell_type": "code",
   "execution_count": 12,
   "id": "fe079c60-05f9-438e-8ebd-2261ad9794e8",
   "metadata": {},
   "outputs": [],
   "source": [
    "cur = conn.cursor()"
   ]
  },
  {
   "cell_type": "markdown",
   "id": "06ac2b99-9ff9-4069-935c-36594c9a7a0c",
   "metadata": {},
   "source": [
    "#### 1d) Use the `cursor.copy_expert()` function to copy our csv file\n",
    "\n",
    "In general, the basic syntax is: &ensp;`.copy_expert(sql, file)`\n",
    "\n",
    "More specifically...\n",
    "\n",
    "-------------\n",
    "The basic syntax to copy <b><u>FROM</u></b> a file to a table is: \n",
    "\n",
    "(note: STDIN is short for standard input -- STDIN is an input stream where data is sent to and read by a program)\n",
    "\n",
    "```Python\n",
    "connection.cursor.copy_expert (\n",
    "    \"COPY table_where_csv_data_goes\n",
    "    FROM STDIN\n",
    "    WITH (\n",
    "        FORMAT CSV,\n",
    "        DELIMITER ',',\n",
    "        HEADER\n",
    "    );\",\n",
    "    file_object\n",
    ")\n",
    "```\n",
    "\n",
    "--------------\n",
    "The basic syntax to copy a table <b><u>OUT</u></b> to save a file:\n",
    "\n",
    "(note: STDOUT is short for standard output -- STDOUT is an output stream where data is sent to and read by a program)\n",
    "\n",
    "```Python\n",
    "connection.cursor.copy_expert (\n",
    "    \"COPY table_to_save\n",
    "    FROM STDOUT\n",
    "    WITH (\n",
    "        FORMAT CSV,\n",
    "        DELIMITER ',',\n",
    "        HEADER\n",
    "    );\",\n",
    "    file_object\n",
    ")\n",
    "```\n",
    "<p style='color:orange'>Change the format, delimiter and/or header as required.</p>"
   ]
  },
  {
   "cell_type": "code",
   "execution_count": 13,
   "id": "a9a8160d-d350-4438-b208-ed61dcf9d42b",
   "metadata": {},
   "outputs": [
    {
     "name": "stdout",
     "output_type": "stream",
     "text": [
      "0 rows affected.\n"
     ]
    },
    {
     "data": {
      "text/html": [
       "<table>\n",
       "    <tr>\n",
       "        <th>title</th>\n",
       "        <th>artist</th>\n",
       "        <th>album</th>\n",
       "        <th>count</th>\n",
       "        <th>rating</th>\n",
       "        <th>len</th>\n",
       "    </tr>\n",
       "</table>"
      ],
      "text/plain": [
       "[]"
      ]
     },
     "execution_count": 13,
     "metadata": {},
     "output_type": "execute_result"
    }
   ],
   "source": [
    "# Check if there is any data in the track_raw table -- there shouldn't be \n",
    "\n",
    "%sql SELECT * FROM track_raw LIMIT 1;"
   ]
  },
  {
   "cell_type": "code",
   "execution_count": 14,
   "id": "666bb6cf-e2f0-4ad8-899b-d2093fee575c",
   "metadata": {},
   "outputs": [],
   "source": [
    "# Copy the data from the input stream to the track_raw table\n",
    "\n",
    "cur.copy_expert(\"COPY track_raw (title, artist, album, count, rating, len) FROM STDIN WITH (FORMAT CSV, DELIMITER ',');\", file_obj)"
   ]
  },
  {
   "cell_type": "markdown",
   "id": "b7b91ed3-d292-436f-a491-1ffbb5e64bf4",
   "metadata": {},
   "source": [
    "<p><span style='color:red; font-size:20px'>&#x26A0;&ensp;Error?</span> &ensp;&ensp;&ensp; You need to rollback the command or nothing else will execute.</p>"
   ]
  },
  {
   "cell_type": "code",
   "execution_count": null,
   "id": "32b1f601-0d73-4b69-8851-9e78dd5921e1",
   "metadata": {},
   "outputs": [],
   "source": [
    "# If you make a mistake or there is an error umcomment the code below and try again\n",
    "\n",
    "# conn.rollback()"
   ]
  },
  {
   "cell_type": "markdown",
   "id": "aea3843b-2e0c-4b3e-98e7-e745c70fd8f7",
   "metadata": {},
   "source": [
    "<span style='color:green; font-size:20px'>&#x2705;&ensp;Everything OK?</span>&ensp;&ensp;&ensp; Commit!"
   ]
  },
  {
   "cell_type": "code",
   "execution_count": 15,
   "id": "9081b277-985a-46e7-8d72-801da43a98ba",
   "metadata": {},
   "outputs": [],
   "source": [
    "# If everything works and you want it to stick issue this command\n",
    "\n",
    "conn.commit()"
   ]
  },
  {
   "cell_type": "code",
   "execution_count": 16,
   "id": "09679aa5-4bc2-4b0a-8f2c-bb2465067893",
   "metadata": {},
   "outputs": [
    {
     "name": "stdout",
     "output_type": "stream",
     "text": [
      "3 rows affected.\n"
     ]
    },
    {
     "data": {
      "text/html": [
       "<table>\n",
       "    <tr>\n",
       "        <th>title</th>\n",
       "        <th>artist</th>\n",
       "        <th>album</th>\n",
       "        <th>count</th>\n",
       "        <th>rating</th>\n",
       "        <th>len</th>\n",
       "    </tr>\n",
       "    <tr>\n",
       "        <td>Another One Bites The Dust</td>\n",
       "        <td>Queen</td>\n",
       "        <td>Greatest Hits</td>\n",
       "        <td>55</td>\n",
       "        <td>100</td>\n",
       "        <td>217</td>\n",
       "    </tr>\n",
       "    <tr>\n",
       "        <td>Asche Zu Asche</td>\n",
       "        <td>Rammstein</td>\n",
       "        <td>Herzeleid</td>\n",
       "        <td>79</td>\n",
       "        <td>100</td>\n",
       "        <td>231</td>\n",
       "    </tr>\n",
       "    <tr>\n",
       "        <td>Beauty School Dropout</td>\n",
       "        <td>Various</td>\n",
       "        <td>Grease</td>\n",
       "        <td>48</td>\n",
       "        <td>100</td>\n",
       "        <td>239</td>\n",
       "    </tr>\n",
       "</table>"
      ],
      "text/plain": [
       "[('Another One Bites The Dust', 'Queen', 'Greatest Hits', 55, 100, 217),\n",
       " ('Asche Zu Asche', 'Rammstein', 'Herzeleid', 79, 100, 231),\n",
       " ('Beauty School Dropout', 'Various', 'Grease', 48, 100, 239)]"
      ]
     },
     "execution_count": 16,
     "metadata": {},
     "output_type": "execute_result"
    }
   ],
   "source": [
    "# Test to make sure everything worked\n",
    "\n",
    "%sql SELECT * FROM track_raw LIMIT 3;"
   ]
  },
  {
   "cell_type": "markdown",
   "id": "21832050-d4a2-4dfb-9ec1-8825c0fa7cc7",
   "metadata": {},
   "source": [
    "Just as an FYI, it's also possible to use Psycopg2 to run other SQL commands.  This is done by the `cursor.execute()` function.  Multiple SQL commands can be sent at once.\n",
    "\n",
    "For example:\n",
    "\n",
    "```Python\n",
    "cursor.execute (\"\"\"\n",
    "\n",
    "DROP TABLE IF EXISTS track_raw;\n",
    "CREATE TABLE track_raw (\n",
    "    title TEXT, \n",
    "    artist TEXT, \n",
    "    album TEXT, \n",
    "    count INTEGER, \n",
    "    rating VARCHAR(128), \n",
    "    len INTEGER\n",
    "    );\n",
    "    \n",
    "\"\"\")\n",
    "```\n"
   ]
  },
  {
   "cell_type": "markdown",
   "id": "d20a491b-5688-4770-a9d7-84aa6e910aad",
   "metadata": {},
   "source": [
    "### 2. Write SQL commands to insert all of the distinct albums into the album table (creating their primary keys)\n",
    "\n",
    "First, recall the <span style='color:green'>album table</span> schema:"
   ]
  },
  {
   "cell_type": "code",
   "execution_count": 17,
   "id": "b33e7db2-f467-4063-ae3e-11a44dfd4372",
   "metadata": {},
   "outputs": [
    {
     "name": "stdout",
     "output_type": "stream",
     "text": [
      "2 rows affected.\n"
     ]
    },
    {
     "data": {
      "text/html": [
       "<table>\n",
       "    <tr>\n",
       "        <th>table_name</th>\n",
       "        <th>column_name</th>\n",
       "        <th>data_type</th>\n",
       "    </tr>\n",
       "    <tr>\n",
       "        <td>album</td>\n",
       "        <td>id</td>\n",
       "        <td>integer</td>\n",
       "    </tr>\n",
       "    <tr>\n",
       "        <td>album</td>\n",
       "        <td>title</td>\n",
       "        <td>character varying</td>\n",
       "    </tr>\n",
       "</table>"
      ],
      "text/plain": [
       "[('album', 'id', 'integer'), ('album', 'title', 'character varying')]"
      ]
     },
     "execution_count": 17,
     "metadata": {},
     "output_type": "execute_result"
    }
   ],
   "source": [
    "%%sql\n",
    "\n",
    "SELECT \n",
    "    table_name, \n",
    "   column_name, \n",
    "   data_type \n",
    "FROM \n",
    "   information_schema.columns\n",
    "WHERE \n",
    "   table_name = 'album';"
   ]
  },
  {
   "cell_type": "code",
   "execution_count": 18,
   "id": "88dc02a0-979a-44fc-9cfa-ef6fedc94359",
   "metadata": {},
   "outputs": [
    {
     "name": "stdout",
     "output_type": "stream",
     "text": [
      "41 rows affected.\n",
      "2 rows affected.\n"
     ]
    },
    {
     "data": {
      "text/html": [
       "<table>\n",
       "    <tr>\n",
       "        <th>id</th>\n",
       "        <th>title</th>\n",
       "    </tr>\n",
       "    <tr>\n",
       "        <td>1</td>\n",
       "        <td>Peanut Butter and Jam </td>\n",
       "    </tr>\n",
       "    <tr>\n",
       "        <td>2</td>\n",
       "        <td>Greatest Hits</td>\n",
       "    </tr>\n",
       "</table>"
      ],
      "text/plain": [
       "[(1, 'Peanut Butter and Jam '), (2, 'Greatest Hits')]"
      ]
     },
     "execution_count": 18,
     "metadata": {},
     "output_type": "execute_result"
    }
   ],
   "source": [
    "%%sql\n",
    "\n",
    "INSERT INTO album (title) SELECT DISTINCT album FROM track_raw;\n",
    "\n",
    "-- Verify \n",
    "SELECT * FROM album LIMIT 2;"
   ]
  },
  {
   "cell_type": "markdown",
   "id": "2cfcc203-7f92-4fa7-b683-34fcc4127918",
   "metadata": {},
   "source": [
    "### 3. Set the album_id in the track_raw table\n",
    "\n",
    "Like:\n",
    "\n",
    "```SQL\n",
    "UPDATE track_raw SET album_id = (SELECT album.id FROM album WHERE album.title = track_raw.album);\n",
    "```\n",
    "\n",
    "First, we need to add this column into the <span style='color:green'>track_raw table</span>:"
   ]
  },
  {
   "cell_type": "code",
   "execution_count": 19,
   "id": "ae918ebf-47c0-42ff-8585-29f31231caf0",
   "metadata": {},
   "outputs": [
    {
     "name": "stdout",
     "output_type": "stream",
     "text": [
      "Done.\n"
     ]
    },
    {
     "data": {
      "text/plain": [
       "[]"
      ]
     },
     "execution_count": 19,
     "metadata": {},
     "output_type": "execute_result"
    }
   ],
   "source": [
    "%sql ALTER TABLE track_raw ADD COLUMN album_id INT;"
   ]
  },
  {
   "cell_type": "code",
   "execution_count": 20,
   "id": "79911c9b-98ff-4924-b884-666c30694632",
   "metadata": {},
   "outputs": [
    {
     "name": "stdout",
     "output_type": "stream",
     "text": [
      "296 rows affected.\n",
      "2 rows affected.\n"
     ]
    },
    {
     "data": {
      "text/html": [
       "<table>\n",
       "    <tr>\n",
       "        <th>title</th>\n",
       "        <th>artist</th>\n",
       "        <th>album</th>\n",
       "        <th>count</th>\n",
       "        <th>rating</th>\n",
       "        <th>len</th>\n",
       "        <th>album_id</th>\n",
       "    </tr>\n",
       "    <tr>\n",
       "        <td>Another One Bites The Dust</td>\n",
       "        <td>Queen</td>\n",
       "        <td>Greatest Hits</td>\n",
       "        <td>55</td>\n",
       "        <td>100</td>\n",
       "        <td>217</td>\n",
       "        <td>2</td>\n",
       "    </tr>\n",
       "    <tr>\n",
       "        <td>Asche Zu Asche</td>\n",
       "        <td>Rammstein</td>\n",
       "        <td>Herzeleid</td>\n",
       "        <td>79</td>\n",
       "        <td>100</td>\n",
       "        <td>231</td>\n",
       "        <td>30</td>\n",
       "    </tr>\n",
       "</table>"
      ],
      "text/plain": [
       "[('Another One Bites The Dust', 'Queen', 'Greatest Hits', 55, 100, 217, 2),\n",
       " ('Asche Zu Asche', 'Rammstein', 'Herzeleid', 79, 100, 231, 30)]"
      ]
     },
     "execution_count": 20,
     "metadata": {},
     "output_type": "execute_result"
    }
   ],
   "source": [
    "%%sql \n",
    "\n",
    "UPDATE track_raw SET album_id = (SELECT album.id FROM album WHERE album.title = track_raw.album);\n",
    "\n",
    "-- Verify\n",
    "SELECT * FROM track_raw LIMIT 2;"
   ]
  },
  {
   "cell_type": "code",
   "execution_count": 21,
   "id": "d0cff96e-e531-4659-9a18-2b71dc102a9f",
   "metadata": {},
   "outputs": [
    {
     "name": "stdout",
     "output_type": "stream",
     "text": [
      "2 rows affected.\n"
     ]
    },
    {
     "data": {
      "text/html": [
       "<table>\n",
       "    <tr>\n",
       "        <th>title</th>\n",
       "        <th>artist</th>\n",
       "        <th>album</th>\n",
       "        <th>count</th>\n",
       "        <th>rating</th>\n",
       "        <th>len</th>\n",
       "        <th>album_id</th>\n",
       "    </tr>\n",
       "    <tr>\n",
       "        <td>Depression in Session</td>\n",
       "        <td>Brent</td>\n",
       "        <td>Peanut Butter and Jam </td>\n",
       "        <td>4</td>\n",
       "        <td>None</td>\n",
       "        <td>213</td>\n",
       "        <td>1</td>\n",
       "    </tr>\n",
       "    <tr>\n",
       "        <td>Another One Bites The Dust</td>\n",
       "        <td>Queen</td>\n",
       "        <td>Greatest Hits</td>\n",
       "        <td>55</td>\n",
       "        <td>100</td>\n",
       "        <td>217</td>\n",
       "        <td>2</td>\n",
       "    </tr>\n",
       "</table>"
      ],
      "text/plain": [
       "[('Depression in Session', 'Brent', 'Peanut Butter and Jam ', 4, None, 213, 1),\n",
       " ('Another One Bites The Dust', 'Queen', 'Greatest Hits', 55, 100, 217, 2)]"
      ]
     },
     "execution_count": 21,
     "metadata": {},
     "output_type": "execute_result"
    }
   ],
   "source": [
    "%sql SELECT * FROM track_raw ORDER BY album_id LIMIT 2;"
   ]
  },
  {
   "cell_type": "markdown",
   "id": "11cb0475-0e33-47be-95cd-2dd2fa403cb7",
   "metadata": {},
   "source": [
    "### 4.Copy the corresponding data from the track_raw table to the track table\n",
    "\n",
    "Use an INSERT ... SELECT statement to copy the corresponding data from the track_raw table to the track table, effectively dropping the artist and album text fields.\n",
    "\n",
    "First, recall <span style='color:green'>track table</span> schema:"
   ]
  },
  {
   "cell_type": "code",
   "execution_count": 22,
   "id": "2f451396-e81a-4ba4-b49c-6ca9497ea3c7",
   "metadata": {},
   "outputs": [
    {
     "name": "stdout",
     "output_type": "stream",
     "text": [
      "6 rows affected.\n"
     ]
    },
    {
     "data": {
      "text/html": [
       "<table>\n",
       "    <tr>\n",
       "        <th>table_name</th>\n",
       "        <th>column_name</th>\n",
       "        <th>data_type</th>\n",
       "    </tr>\n",
       "    <tr>\n",
       "        <td>track</td>\n",
       "        <td>id</td>\n",
       "        <td>integer</td>\n",
       "    </tr>\n",
       "    <tr>\n",
       "        <td>track</td>\n",
       "        <td>len</td>\n",
       "        <td>integer</td>\n",
       "    </tr>\n",
       "    <tr>\n",
       "        <td>track</td>\n",
       "        <td>rating</td>\n",
       "        <td>integer</td>\n",
       "    </tr>\n",
       "    <tr>\n",
       "        <td>track</td>\n",
       "        <td>count</td>\n",
       "        <td>integer</td>\n",
       "    </tr>\n",
       "    <tr>\n",
       "        <td>track</td>\n",
       "        <td>album_id</td>\n",
       "        <td>integer</td>\n",
       "    </tr>\n",
       "    <tr>\n",
       "        <td>track</td>\n",
       "        <td>title</td>\n",
       "        <td>character varying</td>\n",
       "    </tr>\n",
       "</table>"
      ],
      "text/plain": [
       "[('track', 'id', 'integer'),\n",
       " ('track', 'len', 'integer'),\n",
       " ('track', 'rating', 'integer'),\n",
       " ('track', 'count', 'integer'),\n",
       " ('track', 'album_id', 'integer'),\n",
       " ('track', 'title', 'character varying')]"
      ]
     },
     "execution_count": 22,
     "metadata": {},
     "output_type": "execute_result"
    }
   ],
   "source": [
    "%%sql\n",
    "\n",
    "SELECT \n",
    "    table_name, \n",
    "   column_name, \n",
    "   data_type \n",
    "FROM \n",
    "   information_schema.columns\n",
    "WHERE \n",
    "   table_name = 'track';  "
   ]
  },
  {
   "cell_type": "code",
   "execution_count": 23,
   "id": "0258602c-39c3-470e-8da9-d06972787bad",
   "metadata": {},
   "outputs": [
    {
     "name": "stdout",
     "output_type": "stream",
     "text": [
      "296 rows affected.\n",
      "2 rows affected.\n"
     ]
    },
    {
     "data": {
      "text/html": [
       "<table>\n",
       "    <tr>\n",
       "        <th>id</th>\n",
       "        <th>title</th>\n",
       "        <th>len</th>\n",
       "        <th>rating</th>\n",
       "        <th>count</th>\n",
       "        <th>album_id</th>\n",
       "    </tr>\n",
       "    <tr>\n",
       "        <td>1</td>\n",
       "        <td>Another One Bites The Dust</td>\n",
       "        <td>217</td>\n",
       "        <td>100</td>\n",
       "        <td>55</td>\n",
       "        <td>2</td>\n",
       "    </tr>\n",
       "    <tr>\n",
       "        <td>2</td>\n",
       "        <td>Asche Zu Asche</td>\n",
       "        <td>231</td>\n",
       "        <td>100</td>\n",
       "        <td>79</td>\n",
       "        <td>30</td>\n",
       "    </tr>\n",
       "</table>"
      ],
      "text/plain": [
       "[(1, 'Another One Bites The Dust', 217, 100, 55, 2),\n",
       " (2, 'Asche Zu Asche', 231, 100, 79, 30)]"
      ]
     },
     "execution_count": 23,
     "metadata": {},
     "output_type": "execute_result"
    }
   ],
   "source": [
    "%%sql\n",
    "\n",
    "INSERT INTO track (len, rating, count, album_id, title) SELECT len, rating, count, album_id, title FROM track_raw;\n",
    "\n",
    "-- Verify\n",
    "SELECT * FROM track LIMIT 2;"
   ]
  },
  {
   "cell_type": "markdown",
   "id": "1fae866f-9273-4531-9276-c903fb2d2672",
   "metadata": {},
   "source": [
    "### 5. To grade this assignment, the auto-grader will run a query like this on your database:\n",
    " \n",
    "```\n",
    "SELECT track.title, album.title\n",
    "    FROM track\n",
    "    JOIN album ON track.album_id = album.id\n",
    "    ORDER BY track.title LIMIT 3;\n",
    "```    \n",
    "The expected result of this query on your database is:\n",
    "\n",
    "| track\t| album |\n",
    "| :---- | :---- |\n",
    "| A Boy Named Sue (live) | The Legend Of Johnny Cash |\n",
    "| A Brief History of Packets | Computing Conversations |\n",
    "| Aguas De Marco | Natural Wonders Music Sampler 1999 |\n",
    "\n",
    "So, let's check our work:"
   ]
  },
  {
   "cell_type": "code",
   "execution_count": 24,
   "id": "3b9c6e47-913d-4890-8d08-23569ccda590",
   "metadata": {},
   "outputs": [
    {
     "name": "stdout",
     "output_type": "stream",
     "text": [
      "3 rows affected.\n"
     ]
    },
    {
     "data": {
      "text/html": [
       "<table>\n",
       "    <tr>\n",
       "        <th>track</th>\n",
       "        <th>album</th>\n",
       "    </tr>\n",
       "    <tr>\n",
       "        <td>A Boy Named Sue (live)</td>\n",
       "        <td>The Legend Of Johnny Cash</td>\n",
       "    </tr>\n",
       "    <tr>\n",
       "        <td>A Brief History of Packets</td>\n",
       "        <td>Computing Conversations</td>\n",
       "    </tr>\n",
       "    <tr>\n",
       "        <td>Aguas De Marco</td>\n",
       "        <td>Natural Wonders Music Sampler 1999</td>\n",
       "    </tr>\n",
       "</table>"
      ],
      "text/plain": [
       "[('A Boy Named Sue (live)', 'The Legend Of Johnny Cash'),\n",
       " ('A Brief History of Packets', 'Computing Conversations'),\n",
       " ('Aguas De Marco', 'Natural Wonders Music Sampler 1999')]"
      ]
     },
     "execution_count": 24,
     "metadata": {},
     "output_type": "execute_result"
    }
   ],
   "source": [
    "%%sql\n",
    "\n",
    "SELECT track.title AS track, album.title AS album\n",
    "    FROM track\n",
    "    JOIN album ON track.album_id = album.id\n",
    "    ORDER BY track.title LIMIT 3;"
   ]
  },
  {
   "cell_type": "markdown",
   "id": "7586430c-78d3-42a5-a327-5a1e65501407",
   "metadata": {},
   "source": [
    "<span style='color:green; font-size:20px'>&#x2705;&ensp;Success!&ensp;&#x1F389;</span>"
   ]
  },
  {
   "cell_type": "markdown",
   "id": "a22e78a5-aee5-41ad-aa11-76183ed8969c",
   "metadata": {},
   "source": [
    "<p style='color:red; font-size:22px'>Make sure you CLOSE all connections once you're done:</p>"
   ]
  },
  {
   "cell_type": "code",
   "execution_count": 25,
   "id": "cd8f71ae-fadf-4cc7-83b2-2dc8466875f7",
   "metadata": {},
   "outputs": [
    {
     "data": {
      "text/plain": [
       "[None]"
      ]
     },
     "execution_count": 25,
     "metadata": {},
     "output_type": "execute_result"
    }
   ],
   "source": [
    "magic_connections = %sql -l\n",
    "[c.session.close() for c in magic_connections.values()]"
   ]
  },
  {
   "cell_type": "code",
   "execution_count": 26,
   "id": "8a4bf55d-ff75-438a-a1d5-e68ef37b38cf",
   "metadata": {
    "tags": []
   },
   "outputs": [],
   "source": [
    "session.close()\n",
    "engine = session.get_bind()\n",
    "engine.dispose() \n",
    "file_obj.close()\n",
    "cur.close()\n",
    "conn.close()"
   ]
  }
 ],
 "metadata": {
  "kernelspec": {
   "display_name": "Python 3 (ipykernel)",
   "language": "python",
   "name": "python3"
  },
  "language_info": {
   "codemirror_mode": {
    "name": "ipython",
    "version": 3
   },
   "file_extension": ".py",
   "mimetype": "text/x-python",
   "name": "python",
   "nbconvert_exporter": "python",
   "pygments_lexer": "ipython3",
   "version": "3.11.0"
  }
 },
 "nbformat": 4,
 "nbformat_minor": 5
}
