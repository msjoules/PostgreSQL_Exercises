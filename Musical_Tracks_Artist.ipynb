{
 "cells": [
  {
   "cell_type": "markdown",
   "id": "a6586274-11ba-4105-8047-34cfc8e99985",
   "metadata": {},
   "source": [
    "# University of Michigan Intermediate PostgreSQL Week 2 Exercise\n",
    "\n",
    "## Musical Track Database plus Artists\n",
    "\n",
    "\n",
    "This application will read an iTunes library in comma-separated-values (CSV) and produce properly normalized tables as specified below. \n",
    "\n",
    "We will do some things differently in this assignment. We will not use a separate \"raw\" table, we will just use `ALTER TABLE` statements to remove columns after we don't need them (i.e. we converted them into foreign keys).\n",
    "\n",
    "We will use the same <a href='https://www.pg4e.com/tools/sql/library.csv?PHPSESSID=851f9f4ead91f173b21209852de9744b%22'>CSV track data</a> as in prior exercises - this time we will build a many-to-many relationship using a junction/through/join table between tracks and artists.\n",
    "\n",
    "To grade this assignment, the program will run a query like this on your database:\n",
    "\n",
    "```SQL\n",
    "SELECT track.title, album.title, artist.name\n",
    "    FROM track\n",
    "    JOIN album ON track.album_id = album.id\n",
    "    JOIN tracktoartist ON track.id = tracktoartist.track_id\n",
    "    JOIN artist ON tracktoartist.artist_id = artist.id\n",
    "    ORDER BY track.title\n",
    "    LIMIT 3;\n",
    "```\n",
    "\n",
    "The expected result of this query on your database is:\n",
    "\n",
    "| track\t| album | artist|\n",
    "| :---- | :---- | :---  |\n",
    "| A Boy Named Sue (live) | The Legend Of Johnny Cash | Johnny Cash |\n",
    "| A Brief History of Packets | Computing Conversations | IEEE Computer Society |\n",
    "| Aguas De Marco | Natural Wonders Music Sampler 1999 | Rosa Passos |\n",
    "\n",
    "<br>\n",
    "\n",
    "In this assignment we will give you a partial script with portions of some of the commands replaced by three dots…\n",
    "\n",
    "```SQL\n",
    "DROP TABLE album CASCADE;\n",
    "CREATE TABLE album (\n",
    "    id SERIAL,\n",
    "    title VARCHAR(128) UNIQUE,\n",
    "    PRIMARY KEY(id)\n",
    ");\n",
    "\n",
    "DROP TABLE track CASCADE;\n",
    "CREATE TABLE track (\n",
    "    id SERIAL,\n",
    "    title TEXT, \n",
    "    artist TEXT, \n",
    "    album TEXT, \n",
    "    album_id INTEGER REFERENCES album(id) ON DELETE CASCADE,\n",
    "    count INTEGER, \n",
    "    rating INTEGER, \n",
    "    len INTEGER,\n",
    "    PRIMARY KEY(id)\n",
    ");\n",
    "\n",
    "DROP TABLE artist CASCADE;\n",
    "CREATE TABLE artist (\n",
    "    id SERIAL,\n",
    "    name VARCHAR(128) UNIQUE,\n",
    "    PRIMARY KEY(id)\n",
    ");\n",
    "\n",
    "DROP TABLE tracktoartist CASCADE;\n",
    "CREATE TABLE tracktoartist (\n",
    "    id SERIAL,\n",
    "    track VARCHAR(128),\n",
    "    track_id INTEGER REFERENCES track(id) ON DELETE CASCADE,\n",
    "    artist VARCHAR(128),\n",
    "    artist_id INTEGER REFERENCES artist(id) ON DELETE CASCADE,\n",
    "    PRIMARY KEY(id)\n",
    ");\n",
    "\n",
    "\\copy track(title,artist,album,count,rating,len) FROM 'library.csv' WITH DELIMITER ',' CSV;\n",
    "\n",
    "INSERT INTO album (title) SELECT DISTINCT album FROM track;\n",
    "UPDATE track SET album_id = (SELECT album.id FROM album WHERE album.title = track.album);\n",
    "\n",
    "INSERT INTO tracktoartist (track, artist) SELECT DISTINCT ...\n",
    "\n",
    "INSERT INTO artist (name) ...\n",
    "\n",
    "UPDATE tracktoartist SET track_id = ...\n",
    "UPDATE tracktoartist SET artist_id = ...\n",
    "\n",
    "-- We are now done with these text fields\n",
    "ALTER TABLE track DROP COLUMN album;\n",
    "ALTER TABLE track ...\n",
    "ALTER TABLE tracktoartist DROP COLUMN track;\n",
    "ALTER TABLE tracktoartist ...\n",
    "```"
   ]
  },
  {
   "cell_type": "markdown",
   "id": "c99d4ee2-3483-49a5-ab1e-fa2d02fdcd6e",
   "metadata": {},
   "source": [
    "This notebook uses both the IPython magic `%sql` and `%%sql` as well as the Psycopg2 DBAPI.  The reason why I chose to use both is because I like the simplicity of the IPython magic but I haven't figured out a way to copy CSV files using the magics.  Thus, I have to rely on Psycopg2's interface for this purpose.  "
   ]
  },
  {
   "cell_type": "markdown",
   "id": "ad727bf8-cd53-4fa9-b97d-18682d40785d",
   "metadata": {},
   "source": [
    "### Setting Up The Connection"
   ]
  },
  {
   "cell_type": "code",
   "execution_count": 1,
   "id": "87867765-7b29-4643-9f8b-3019e2c475f5",
   "metadata": {},
   "outputs": [],
   "source": [
    "# Import necessary libraries\n",
    "# courses_db_user_julia contains the PostgreSQL settings as a dictionary file for privacy \n",
    "# Import some libraries\n",
    "\n",
    "import sqlalchemy\n",
    "from sqlalchemy import create_engine\n",
    "from sqlalchemy.orm import sessionmaker\n",
    "from courses_db_user_julia import postgresql as settings\n",
    "from pgspecial.main import PGSpecial\n",
    "import psycopg2 as ps\n",
    "import pandas as pd"
   ]
  },
  {
   "cell_type": "code",
   "execution_count": 2,
   "id": "b06ef444-e5b4-4e11-89da-47326b7158f0",
   "metadata": {},
   "outputs": [
    {
     "data": {
      "text/plain": [
       "'1.4.46'"
      ]
     },
     "execution_count": 2,
     "metadata": {},
     "output_type": "execute_result"
    }
   ],
   "source": [
    "# Get Version\n",
    "\n",
    "sqlalchemy.__version__ "
   ]
  },
  {
   "cell_type": "code",
   "execution_count": 3,
   "id": "a6ca1ec6-3d17-458c-9913-13b1a6e1d178",
   "metadata": {},
   "outputs": [],
   "source": [
    "# Create a get_engine function to get our credentials and create an engine\n",
    "\n",
    "def get_engine(user, passwd, host, port, db):\n",
    "    url = f\"postgresql://{user}:{passwd}@{host}:{port}/{db}\"\n",
    "    engine = create_engine(url)\n",
    "    return engine"
   ]
  },
  {
   "cell_type": "code",
   "execution_count": 4,
   "id": "cac89178-acf7-458b-a30e-55f077c82312",
   "metadata": {},
   "outputs": [],
   "source": [
    "engine = get_engine(settings['user'],\n",
    "                    settings['password'],\n",
    "                    settings['host'],\n",
    "                    settings['port'],\n",
    "                    settings['dbname'])"
   ]
  },
  {
   "cell_type": "code",
   "execution_count": 5,
   "id": "99f971c4-e966-496f-87cb-9efc676f072e",
   "metadata": {},
   "outputs": [
    {
     "data": {
      "text/plain": [
       "<sqlalchemy.orm.session.Session at 0x7f10c8ccacd0>"
      ]
     },
     "execution_count": 5,
     "metadata": {},
     "output_type": "execute_result"
    }
   ],
   "source": [
    "# Start Session\n",
    "\n",
    "session = sessionmaker(bind=engine)()\n",
    "session"
   ]
  },
  {
   "cell_type": "markdown",
   "id": "b8448819-a6a9-4669-abe3-564aa0d30d3e",
   "metadata": {},
   "source": [
    "#### IPython Magic!"
   ]
  },
  {
   "cell_type": "code",
   "execution_count": 6,
   "id": "ea26d5b5-373c-4862-91a1-7150d4daae6a",
   "metadata": {},
   "outputs": [],
   "source": [
    "# Load IPython-SQL module\n",
    "\n",
    "%load_ext sql"
   ]
  },
  {
   "cell_type": "code",
   "execution_count": 7,
   "id": "906e1e57-82ff-4db9-8c73-4db858c3051c",
   "metadata": {
    "tags": []
   },
   "outputs": [],
   "source": [
    "# Create the connection using $\n",
    "# The $ is a special character in IPython SQL that encloses variables with quotes\n",
    "\n",
    "%sql $engine.url"
   ]
  },
  {
   "cell_type": "code",
   "execution_count": 8,
   "id": "269d0ac9-3df3-4b35-9e44-ca37606a1bb1",
   "metadata": {},
   "outputs": [],
   "source": [
    "# Remove connection display when using magics\n",
    "\n",
    "%config SqlMagic.displaycon = False"
   ]
  },
  {
   "cell_type": "markdown",
   "id": "4fd014e5-c4ca-48ea-ba66-665594c1776d",
   "metadata": {},
   "source": [
    "### 0. Create Tables\n",
    "\n",
    "Per the instructions above, we are to create the following tables and are given the SQL commands:"
   ]
  },
  {
   "cell_type": "code",
   "execution_count": 9,
   "id": "8f9e545b-007b-49e6-8f94-ba658c604542",
   "metadata": {
    "tags": []
   },
   "outputs": [
    {
     "name": "stdout",
     "output_type": "stream",
     "text": [
      "Done.\n",
      "Done.\n",
      "Done.\n",
      "Done.\n",
      "Done.\n",
      "Done.\n",
      "Done.\n",
      "Done.\n"
     ]
    },
    {
     "data": {
      "text/plain": [
       "[]"
      ]
     },
     "execution_count": 9,
     "metadata": {},
     "output_type": "execute_result"
    }
   ],
   "source": [
    "%%sql\n",
    "\n",
    "DROP TABLE IF EXISTS album CASCADE;\n",
    "CREATE TABLE album (\n",
    "    id SERIAL,\n",
    "    title VARCHAR(128) UNIQUE,\n",
    "    PRIMARY KEY(id)\n",
    ");\n",
    "\n",
    "DROP TABLE IF EXISTS track CASCADE;\n",
    "CREATE TABLE track (\n",
    "    id SERIAL,\n",
    "    title TEXT, \n",
    "    artist TEXT, \n",
    "    album TEXT, \n",
    "    album_id INTEGER REFERENCES album(id) ON DELETE CASCADE,\n",
    "    count INTEGER, \n",
    "    rating INTEGER, \n",
    "    len INTEGER,\n",
    "    PRIMARY KEY(id)\n",
    ");\n",
    "\n",
    "DROP TABLE IF EXISTS artist CASCADE;\n",
    "CREATE TABLE artist (\n",
    "    id SERIAL,\n",
    "    name VARCHAR(128) UNIQUE,\n",
    "    PRIMARY KEY(id)\n",
    ");\n",
    "\n",
    "DROP TABLE IF EXISTS tracktoartist CASCADE;\n",
    "CREATE TABLE tracktoartist (\n",
    "    id SERIAL,\n",
    "    track VARCHAR(128),\n",
    "    track_id INTEGER REFERENCES track(id) ON DELETE CASCADE,\n",
    "    artist VARCHAR(128),\n",
    "    artist_id INTEGER REFERENCES artist(id) ON DELETE CASCADE,\n",
    "    PRIMARY KEY(id)\n",
    ");"
   ]
  },
  {
   "cell_type": "markdown",
   "id": "21276e8e-8ca4-4ee5-a269-935f28391d09",
   "metadata": {},
   "source": [
    "### 1. Copy 'library.csv' File Into Database\n",
    "\n",
    "Now we need to copy the <span style='color:pink'>track data</span> into the <span style='color:green'>track table</span>.  This can be done using the `\\copy` function in the PostgreSQL psql <b><u>terminal</u></b>.  The reason we use `\\copy` as opposed to `COPY` is because `COPY FROM` instructs the PostgreSQL <b>server</b> process to read a file. Whereas the `\\copy` is used on the <b>client</b> side.\n",
    "\n",
    "However, this doesn't seem to work here using IPython magic.  So, we will use Psycopg2.  The basic steps are:\n",
    "\n",
    "- 1a) Create a Psycopg2 connection object\n",
    "- 1b) Create a dump file object\n",
    "- 1c) Create a cursor object\n",
    "- 1d) Use the `cursor.copy_expert()` function to copy the csv file"
   ]
  },
  {
   "cell_type": "markdown",
   "id": "429477ff-921d-40a1-9609-801f94c16c34",
   "metadata": {},
   "source": [
    "#### 1a) Create a Psycopg2 connection object"
   ]
  },
  {
   "cell_type": "code",
   "execution_count": 10,
   "id": "828ddc16-9dd6-42df-a274-4b2e77d2082a",
   "metadata": {},
   "outputs": [],
   "source": [
    "conn = ps.connect(user=settings['user'],\n",
    "                  password=settings['password'],\n",
    "                  host=settings['host'],\n",
    "                  port=settings['port'],\n",
    "                  dbname=settings['dbname'])"
   ]
  },
  {
   "cell_type": "markdown",
   "id": "4d786852-25a4-4a02-a059-7edb96e35f53",
   "metadata": {},
   "source": [
    "#### 1b) Create a dump file object"
   ]
  },
  {
   "cell_type": "code",
   "execution_count": 11,
   "id": "25d039ec-7e27-445d-bf53-9d1b3dae9289",
   "metadata": {},
   "outputs": [],
   "source": [
    "# Create a file object where we will dump our csv file to \n",
    "# This will allow us to copy the dump into our table\n",
    "\n",
    "file_obj = open('/mnt/a/docker_share/SQL/library.csv', 'r') "
   ]
  },
  {
   "cell_type": "markdown",
   "id": "04ab82b9-8165-4715-a95a-f731e6cd8abd",
   "metadata": {},
   "source": [
    "#### 1c) Create a cursor object\n",
    "\n",
    "Psycopg2 requires the use of a cursor object in order to execute commands to the PostgreSQL server."
   ]
  },
  {
   "cell_type": "code",
   "execution_count": 12,
   "id": "fe079c60-05f9-438e-8ebd-2261ad9794e8",
   "metadata": {},
   "outputs": [],
   "source": [
    "cur = conn.cursor()"
   ]
  },
  {
   "cell_type": "markdown",
   "id": "c9908fe3-2018-4543-933c-636c0e3090c3",
   "metadata": {},
   "source": [
    "#### 1d) Use the `cursor.copy_expert()` function to copy our csv file\n",
    "\n",
    "In general, the basic syntax is: &ensp;`.copy_expert(sql, file)`\n",
    "\n",
    "More specifically...\n",
    "\n",
    "-------------\n",
    "The basic syntax to copy <b><u>FROM</u></b> a file to a table is: \n",
    "\n",
    "(note: STDIN is short for standard input -- STDIN is an input stream where data is sent to and read by a program)\n",
    "\n",
    "```Python\n",
    "connection.cursor.copy_expert (\n",
    "    \"COPY table_where_csv_data_goes\n",
    "    FROM STDIN\n",
    "    WITH (\n",
    "        FORMAT CSV,\n",
    "        DELIMITER ',',\n",
    "        HEADER\n",
    "    );\",\n",
    "    file_object\n",
    ")\n",
    "```\n",
    "\n",
    "--------------\n",
    "The basic syntax to copy a table <b><u>OUT</u></b> to save a file:\n",
    "\n",
    "(note: STDOUT is short for standard output -- STDOUT is an output stream where data is sent to and read by a program)\n",
    "\n",
    "```Python\n",
    "connection.cursor.copy_expert (\n",
    "    \"COPY table_to_save\n",
    "    FROM STDOUT\n",
    "    WITH (\n",
    "        FORMAT CSV,\n",
    "        DELIMITER ',',\n",
    "        HEADER\n",
    "    );\",\n",
    "    file_object\n",
    ")\n",
    "```\n",
    "<p style='color:orange'>Change the format, delimiter and/or header as required.</p>"
   ]
  },
  {
   "cell_type": "code",
   "execution_count": 13,
   "id": "a9a8160d-d350-4438-b208-ed61dcf9d42b",
   "metadata": {},
   "outputs": [
    {
     "name": "stdout",
     "output_type": "stream",
     "text": [
      "0 rows affected.\n"
     ]
    },
    {
     "data": {
      "text/html": [
       "<table>\n",
       "    <tr>\n",
       "        <th>id</th>\n",
       "        <th>title</th>\n",
       "        <th>artist</th>\n",
       "        <th>album</th>\n",
       "        <th>album_id</th>\n",
       "        <th>count</th>\n",
       "        <th>rating</th>\n",
       "        <th>len</th>\n",
       "    </tr>\n",
       "</table>"
      ],
      "text/plain": [
       "[]"
      ]
     },
     "execution_count": 13,
     "metadata": {},
     "output_type": "execute_result"
    }
   ],
   "source": [
    "# Check if there is any data in the track table -- there shouldn't be \n",
    "\n",
    "%sql SELECT * FROM track LIMIT 1;"
   ]
  },
  {
   "cell_type": "code",
   "execution_count": 14,
   "id": "666bb6cf-e2f0-4ad8-899b-d2093fee575c",
   "metadata": {},
   "outputs": [],
   "source": [
    "# Copy the data from the input stream to the track table\n",
    "\n",
    "cur.copy_expert(\"COPY track (title, artist, album, count, rating, len) FROM STDIN WITH (FORMAT CSV, DELIMITER ',');\", file_obj)"
   ]
  },
  {
   "cell_type": "markdown",
   "id": "b7b91ed3-d292-436f-a491-1ffbb5e64bf4",
   "metadata": {},
   "source": [
    "<p><span style='color:red; font-size:20px'>&#x26A0;&ensp;Error?</span> &ensp;&ensp;&ensp; You need to rollback the command or nothing else will execute.</p>"
   ]
  },
  {
   "cell_type": "code",
   "execution_count": null,
   "id": "32b1f601-0d73-4b69-8851-9e78dd5921e1",
   "metadata": {},
   "outputs": [],
   "source": [
    "# If you make a mistake or there is an error umcomment the code below and try again\n",
    "\n",
    "# conn.rollback()"
   ]
  },
  {
   "cell_type": "markdown",
   "id": "aea3843b-2e0c-4b3e-98e7-e745c70fd8f7",
   "metadata": {},
   "source": [
    "<span style='color:green; font-size:20px'>&#x2705;&ensp;Everything OK?</span>&ensp;&ensp;&ensp; Commit!"
   ]
  },
  {
   "cell_type": "code",
   "execution_count": 15,
   "id": "9081b277-985a-46e7-8d72-801da43a98ba",
   "metadata": {},
   "outputs": [],
   "source": [
    "# If everything works and you want it to stick issue this command\n",
    "\n",
    "conn.commit()"
   ]
  },
  {
   "cell_type": "code",
   "execution_count": 16,
   "id": "09679aa5-4bc2-4b0a-8f2c-bb2465067893",
   "metadata": {},
   "outputs": [
    {
     "name": "stdout",
     "output_type": "stream",
     "text": [
      "3 rows affected.\n"
     ]
    },
    {
     "data": {
      "text/html": [
       "<table>\n",
       "    <tr>\n",
       "        <th>id</th>\n",
       "        <th>title</th>\n",
       "        <th>artist</th>\n",
       "        <th>album</th>\n",
       "        <th>album_id</th>\n",
       "        <th>count</th>\n",
       "        <th>rating</th>\n",
       "        <th>len</th>\n",
       "    </tr>\n",
       "    <tr>\n",
       "        <td>1</td>\n",
       "        <td>Another One Bites The Dust</td>\n",
       "        <td>Queen</td>\n",
       "        <td>Greatest Hits</td>\n",
       "        <td>None</td>\n",
       "        <td>55</td>\n",
       "        <td>100</td>\n",
       "        <td>217</td>\n",
       "    </tr>\n",
       "    <tr>\n",
       "        <td>2</td>\n",
       "        <td>Asche Zu Asche</td>\n",
       "        <td>Rammstein</td>\n",
       "        <td>Herzeleid</td>\n",
       "        <td>None</td>\n",
       "        <td>79</td>\n",
       "        <td>100</td>\n",
       "        <td>231</td>\n",
       "    </tr>\n",
       "    <tr>\n",
       "        <td>3</td>\n",
       "        <td>Beauty School Dropout</td>\n",
       "        <td>Various</td>\n",
       "        <td>Grease</td>\n",
       "        <td>None</td>\n",
       "        <td>48</td>\n",
       "        <td>100</td>\n",
       "        <td>239</td>\n",
       "    </tr>\n",
       "</table>"
      ],
      "text/plain": [
       "[(1, 'Another One Bites The Dust', 'Queen', 'Greatest Hits', None, 55, 100, 217),\n",
       " (2, 'Asche Zu Asche', 'Rammstein', 'Herzeleid', None, 79, 100, 231),\n",
       " (3, 'Beauty School Dropout', 'Various', 'Grease', None, 48, 100, 239)]"
      ]
     },
     "execution_count": 16,
     "metadata": {},
     "output_type": "execute_result"
    }
   ],
   "source": [
    "# Test to make sure everything worked\n",
    "\n",
    "%sql SELECT * FROM track LIMIT 3;"
   ]
  },
  {
   "cell_type": "markdown",
   "id": "21832050-d4a2-4dfb-9ec1-8825c0fa7cc7",
   "metadata": {},
   "source": [
    "Just as an FYI, it's also possible to use Psycopg2 to run other SQL commands.  This is done by the `cursor.execute()` function.  Multiple SQL commands can be sent at once.\n",
    "\n",
    "For example:\n",
    "\n",
    "```Python\n",
    "cursor.execute (\"\"\"\n",
    "    \n",
    "DROP TABLE IF EXISTS track CASCADE;\n",
    "CREATE TABLE track (\n",
    "    id SERIAL,\n",
    "    title TEXT, \n",
    "    artist TEXT, \n",
    "    album TEXT, \n",
    "    album_id INTEGER REFERENCES album(id) ON DELETE CASCADE,\n",
    "    count INTEGER, \n",
    "    rating INTEGER, \n",
    "    len INTEGER,\n",
    "    PRIMARY KEY(id));\n",
    "    \n",
    "\"\"\")\n",
    "```"
   ]
  },
  {
   "cell_type": "markdown",
   "id": "e866d75e-23c0-41de-aa80-add8bc9a50b2",
   "metadata": {},
   "source": [
    "### 2. Codes given to us to execute\n",
    "\n",
    "The following SQL codes were provided to us to execute.  They basically are used to populate the other tables by using the imported track data above."
   ]
  },
  {
   "cell_type": "code",
   "execution_count": 17,
   "id": "09fad8c3-3a1e-416a-bc6d-93373a05c427",
   "metadata": {},
   "outputs": [
    {
     "name": "stdout",
     "output_type": "stream",
     "text": [
      "41 rows affected.\n",
      "296 rows affected.\n"
     ]
    },
    {
     "data": {
      "text/plain": [
       "[]"
      ]
     },
     "execution_count": 17,
     "metadata": {},
     "output_type": "execute_result"
    }
   ],
   "source": [
    "%%sql\n",
    "\n",
    "INSERT INTO album (title) SELECT DISTINCT album FROM track;\n",
    "UPDATE track SET album_id = (SELECT album.id FROM album WHERE album.title = track.album);"
   ]
  },
  {
   "cell_type": "markdown",
   "id": "4e14af40-92ea-49d8-8e75-c9af774e32f4",
   "metadata": {},
   "source": [
    "### 3. Complete the following codes below \n",
    "\n",
    "```SQL\n",
    "INSERT INTO tracktoartist (track, artist) SELECT DISTINCT ...\n",
    "\n",
    "INSERT INTO artist (name) ...\n",
    "\n",
    "UPDATE tracktoartist SET track_id = ...\n",
    "UPDATE tracktoartist SET artist_id = ...\n",
    "```\n",
    "\n",
    "This is similar to what we did in the Musical Tracks Many-to-One exercise.  First, recall the schema for the <span style='color:green'>tracktoartist table</span>:"
   ]
  },
  {
   "cell_type": "code",
   "execution_count": 18,
   "id": "de6696aa-976f-4329-9074-b10daaf309e4",
   "metadata": {},
   "outputs": [
    {
     "name": "stdout",
     "output_type": "stream",
     "text": [
      "5 rows affected.\n"
     ]
    },
    {
     "data": {
      "text/html": [
       "<table>\n",
       "    <tr>\n",
       "        <th>column_name</th>\n",
       "        <th>data_type</th>\n",
       "    </tr>\n",
       "    <tr>\n",
       "        <td>id</td>\n",
       "        <td>integer</td>\n",
       "    </tr>\n",
       "    <tr>\n",
       "        <td>track_id</td>\n",
       "        <td>integer</td>\n",
       "    </tr>\n",
       "    <tr>\n",
       "        <td>artist_id</td>\n",
       "        <td>integer</td>\n",
       "    </tr>\n",
       "    <tr>\n",
       "        <td>track</td>\n",
       "        <td>character varying</td>\n",
       "    </tr>\n",
       "    <tr>\n",
       "        <td>artist</td>\n",
       "        <td>character varying</td>\n",
       "    </tr>\n",
       "</table>"
      ],
      "text/plain": [
       "[('id', 'integer'),\n",
       " ('track_id', 'integer'),\n",
       " ('artist_id', 'integer'),\n",
       " ('track', 'character varying'),\n",
       " ('artist', 'character varying')]"
      ]
     },
     "execution_count": 18,
     "metadata": {},
     "output_type": "execute_result"
    }
   ],
   "source": [
    "%%sql\n",
    "\n",
    "SELECT\n",
    "    column_name,\n",
    "    data_type\n",
    "FROM\n",
    "    information_schema.columns\n",
    "WHERE\n",
    "    table_name='tracktoartist';"
   ]
  },
  {
   "cell_type": "markdown",
   "id": "74a511f2-f4ab-460d-917a-6d3332753088",
   "metadata": {},
   "source": [
    "#### 3a) Populate tracktoartist and artist tables using track table"
   ]
  },
  {
   "cell_type": "code",
   "execution_count": 19,
   "id": "0417eea8-9a2c-4909-8e61-3369692de6c6",
   "metadata": {},
   "outputs": [
    {
     "name": "stdout",
     "output_type": "stream",
     "text": [
      "296 rows affected.\n",
      "51 rows affected.\n"
     ]
    },
    {
     "data": {
      "text/plain": [
       "[]"
      ]
     },
     "execution_count": 19,
     "metadata": {},
     "output_type": "execute_result"
    }
   ],
   "source": [
    "%%sql\n",
    "\n",
    "INSERT INTO tracktoartist (track, artist) SELECT DISTINCT title, artist FROM track;\n",
    "\n",
    "INSERT INTO artist (name) SELECT DISTINCT artist FROM track;"
   ]
  },
  {
   "cell_type": "markdown",
   "id": "0c415f09-6b94-49bf-87cd-748e6a4f1759",
   "metadata": {},
   "source": [
    "Verify it worked:"
   ]
  },
  {
   "cell_type": "code",
   "execution_count": 20,
   "id": "acec744b-cf19-4996-9d6d-8c33cbcb4e05",
   "metadata": {},
   "outputs": [
    {
     "name": "stdout",
     "output_type": "stream",
     "text": [
      "2 rows affected.\n",
      "Returning data to local variable tractoartist_table\n",
      "2 rows affected.\n",
      "Returning data to local variable album_table\n",
      "2 rows affected.\n",
      "Returning data to local variable artist_table\n"
     ]
    }
   ],
   "source": [
    "%sql tractoartist_table << SELECT * FROM tracktoartist LIMIT 2;\n",
    "%sql album_table << SELECT * FROM album LIMIT 2;\n",
    "%sql artist_table << SELECT * FROM artist LIMIT 2;"
   ]
  },
  {
   "cell_type": "code",
   "execution_count": 21,
   "id": "03bde3e6-ca3f-4f2b-8daf-4c3a8b3d62c6",
   "metadata": {},
   "outputs": [
    {
     "name": "stdout",
     "output_type": "stream",
     "text": [
      "Track-to-Artist:\n",
      " +----+--------------------------------------+----------+---------------+-----------+\n",
      "| id |                track                 | track_id |     artist    | artist_id |\n",
      "+----+--------------------------------------+----------+---------------+-----------+\n",
      "| 1  | Jack the Stripper/Fairies Wear Boots |   None   | Black Sabbath |    None   |\n",
      "| 2  |            Asche Zu Asche            |   None   |   Rammstein   |    None   |\n",
      "+----+--------------------------------------+----------+---------------+-----------+ \n",
      " Album:\n",
      " +----+------------------------+\n",
      "| id |         title          |\n",
      "+----+------------------------+\n",
      "| 1  | Peanut Butter and Jam  |\n",
      "| 2  |     Greatest Hits      |\n",
      "+----+------------------------+ \n",
      " Artist:\n",
      " +----+------------------+\n",
      "| id |       name       |\n",
      "+----+------------------+\n",
      "| 1  | The Black Crowes |\n",
      "| 2  |  Chris Spheeris  |\n",
      "+----+------------------+\n"
     ]
    }
   ],
   "source": [
    " print('Track-to-Artist:\\n {} \\n Album:\\n {} \\n Artist:\\n {}'.format(tractoartist_table, album_table, artist_table))"
   ]
  },
  {
   "cell_type": "markdown",
   "id": "dee75e4f-d5d3-4987-940e-ae72133b58df",
   "metadata": {},
   "source": [
    "#### 3b) Generate the foreign keys for tracktoartist table using primary keys from album & artist tables\n",
    "\n",
    "You will need to get the <span style='color:pink'>track_id</span> from the <span style='color:green'>track table</span> and the <span style='color:pink'>artist_id</span> from the <span style='color:green'>artist table</span>"
   ]
  },
  {
   "cell_type": "code",
   "execution_count": 22,
   "id": "2b1774b2-383c-4e6f-9ef5-b262e01ea83f",
   "metadata": {},
   "outputs": [
    {
     "name": "stdout",
     "output_type": "stream",
     "text": [
      "296 rows affected.\n",
      "296 rows affected.\n",
      "3 rows affected.\n"
     ]
    },
    {
     "data": {
      "text/html": [
       "<table>\n",
       "    <tr>\n",
       "        <th>id</th>\n",
       "        <th>track</th>\n",
       "        <th>track_id</th>\n",
       "        <th>artist</th>\n",
       "        <th>artist_id</th>\n",
       "    </tr>\n",
       "    <tr>\n",
       "        <td>3</td>\n",
       "        <td>Heavy</td>\n",
       "        <td>153</td>\n",
       "        <td>Brent</td>\n",
       "        <td>35</td>\n",
       "    </tr>\n",
       "    <tr>\n",
       "        <td>1</td>\n",
       "        <td>Jack the Stripper/Fairies Wear Boots</td>\n",
       "        <td>25</td>\n",
       "        <td>Black Sabbath</td>\n",
       "        <td>6</td>\n",
       "    </tr>\n",
       "    <tr>\n",
       "        <td>2</td>\n",
       "        <td>Asche Zu Asche</td>\n",
       "        <td>2</td>\n",
       "        <td>Rammstein</td>\n",
       "        <td>10</td>\n",
       "    </tr>\n",
       "</table>"
      ],
      "text/plain": [
       "[(3, 'Heavy', 153, 'Brent', 35),\n",
       " (1, 'Jack the Stripper/Fairies Wear Boots', 25, 'Black Sabbath', 6),\n",
       " (2, 'Asche Zu Asche', 2, 'Rammstein', 10)]"
      ]
     },
     "execution_count": 22,
     "metadata": {},
     "output_type": "execute_result"
    }
   ],
   "source": [
    "%%sql\n",
    "\n",
    "UPDATE tracktoartist SET track_id = (SELECT track.id FROM track WHERE track.title = tracktoartist.track);\n",
    "UPDATE tracktoartist SET artist_id = (SELECT artist.id FROM artist WHERE artist.name = tracktoartist.artist);\n",
    "\n",
    "-- Verify\n",
    "SELECT * FROM tracktoartist LIMIT 3;"
   ]
  },
  {
   "cell_type": "code",
   "execution_count": 23,
   "id": "35bfbb82-ba65-4cd7-9286-7c203bef277e",
   "metadata": {},
   "outputs": [
    {
     "name": "stdout",
     "output_type": "stream",
     "text": [
      "3 rows affected.\n"
     ]
    },
    {
     "data": {
      "text/html": [
       "<table>\n",
       "    <tr>\n",
       "        <th>id</th>\n",
       "        <th>track</th>\n",
       "        <th>track_id</th>\n",
       "        <th>artist</th>\n",
       "        <th>artist_id</th>\n",
       "    </tr>\n",
       "    <tr>\n",
       "        <td>46</td>\n",
       "        <td>A Boy Named Sue (live)</td>\n",
       "        <td>102</td>\n",
       "        <td>Johnny Cash</td>\n",
       "        <td>34</td>\n",
       "    </tr>\n",
       "    <tr>\n",
       "        <td>206</td>\n",
       "        <td>A Brief History of Packets</td>\n",
       "        <td>224</td>\n",
       "        <td>IEEE Computer Society</td>\n",
       "        <td>16</td>\n",
       "    </tr>\n",
       "    <tr>\n",
       "        <td>72</td>\n",
       "        <td>Aguas De Marco</td>\n",
       "        <td>124</td>\n",
       "        <td>Rosa Passos</td>\n",
       "        <td>11</td>\n",
       "    </tr>\n",
       "</table>"
      ],
      "text/plain": [
       "[(46, 'A Boy Named Sue (live)', 102, 'Johnny Cash', 34),\n",
       " (206, 'A Brief History of Packets', 224, 'IEEE Computer Society', 16),\n",
       " (72, 'Aguas De Marco', 124, 'Rosa Passos', 11)]"
      ]
     },
     "execution_count": 23,
     "metadata": {},
     "output_type": "execute_result"
    }
   ],
   "source": [
    "%sql SELECT * FROM tracktoartist ORDER BY track LIMIT 3;"
   ]
  },
  {
   "cell_type": "markdown",
   "id": "0ee0ca3c-c775-4c2b-a46f-34947c6c17ca",
   "metadata": {},
   "source": [
    "### 4. Clean up\n",
    "\n",
    "We will use the `ALTER TABLE` statements to remove columns we converted into foreign keys.  The codes given to us are as follows:\n",
    "\n",
    "```sql\n",
    "ALTER TABLE track DROP COLUMN album;\n",
    "ALTER TABLE track ...\n",
    "ALTER TABLE tracktoartist DROP COLUMN track;\n",
    "ALTER TABLE tracktoartist ...\n",
    "SELECT track.title, album.title, artist.name \n",
    "    FROM track\n",
    "    JOIN album ON track.album_id = album.id\n",
    "    JOIN tracktoartist ON track.id = tracktoartist.track_id\n",
    "    JOIN artist ON tracktoartist.artist_id = artist.id\n",
    "    LIMIT 3;\n",
    "```"
   ]
  },
  {
   "cell_type": "code",
   "execution_count": 24,
   "id": "9d68f29c-061b-4859-a3b7-d78b07f15e6c",
   "metadata": {},
   "outputs": [
    {
     "name": "stdout",
     "output_type": "stream",
     "text": [
      "Done.\n",
      "Done.\n",
      "Done.\n",
      "Done.\n"
     ]
    },
    {
     "data": {
      "text/plain": [
       "[]"
      ]
     },
     "execution_count": 24,
     "metadata": {},
     "output_type": "execute_result"
    }
   ],
   "source": [
    "%%sql\n",
    "\n",
    "ALTER TABLE track DROP COLUMN album;\n",
    "ALTER TABLE track DROP COLUMN artist;\n",
    "ALTER TABLE tracktoartist DROP COLUMN track;\n",
    "ALTER TABLE tracktoartist DROP COLUMN artist;"
   ]
  },
  {
   "cell_type": "markdown",
   "id": "1fae866f-9273-4531-9276-c903fb2d2672",
   "metadata": {},
   "source": [
    "### 5. To grade this assignment, the program will run a query like this on your database:\n",
    "\n",
    "```SQL\n",
    "SELECT track.title, album.title, artist.name\n",
    "    FROM track\n",
    "    JOIN album ON track.album_id = album.id\n",
    "    JOIN tracktoartist ON track.id = tracktoartist.track_id\n",
    "    JOIN artist ON tracktoartist.artist_id = artist.id\n",
    "    ORDER BY track.title\n",
    "    LIMIT 3;\n",
    "```\n",
    "\n",
    "The expected result of this query on your database is:\n",
    "\n",
    "| track\t| album | artist|\n",
    "| :---- | :---- | :---  |\n",
    "| A Boy Named Sue (live) | The Legend Of Johnny Cash | Johnny Cash |\n",
    "| A Brief History of Packets | Computing Conversations | IEEE Computer Society |\n",
    "| Aguas De Marco | Natural Wonders Music Sampler 1999 | Rosa Passos |\n",
    "\n",
    "\n",
    "So, let's check our work:"
   ]
  },
  {
   "cell_type": "code",
   "execution_count": 25,
   "id": "371faea3-5829-4cc7-bab2-6c0cf8ac3d40",
   "metadata": {},
   "outputs": [
    {
     "name": "stdout",
     "output_type": "stream",
     "text": [
      "3 rows affected.\n"
     ]
    },
    {
     "data": {
      "text/html": [
       "<table>\n",
       "    <tr>\n",
       "        <th>track</th>\n",
       "        <th>album</th>\n",
       "        <th>artist</th>\n",
       "    </tr>\n",
       "    <tr>\n",
       "        <td>A Boy Named Sue (live)</td>\n",
       "        <td>The Legend Of Johnny Cash</td>\n",
       "        <td>Johnny Cash</td>\n",
       "    </tr>\n",
       "    <tr>\n",
       "        <td>A Brief History of Packets</td>\n",
       "        <td>Computing Conversations</td>\n",
       "        <td>IEEE Computer Society</td>\n",
       "    </tr>\n",
       "    <tr>\n",
       "        <td>Aguas De Marco</td>\n",
       "        <td>Natural Wonders Music Sampler 1999</td>\n",
       "        <td>Rosa Passos</td>\n",
       "    </tr>\n",
       "</table>"
      ],
      "text/plain": [
       "[('A Boy Named Sue (live)', 'The Legend Of Johnny Cash', 'Johnny Cash'),\n",
       " ('A Brief History of Packets', 'Computing Conversations', 'IEEE Computer Society'),\n",
       " ('Aguas De Marco', 'Natural Wonders Music Sampler 1999', 'Rosa Passos')]"
      ]
     },
     "execution_count": 25,
     "metadata": {},
     "output_type": "execute_result"
    }
   ],
   "source": [
    "%%sql\n",
    "\n",
    "SELECT track.title AS track, album.title AS album, artist.name AS artist\n",
    "    FROM track\n",
    "    JOIN album ON track.album_id = album.id\n",
    "    JOIN tracktoartist ON track.id = tracktoartist.track_id\n",
    "    JOIN artist ON tracktoartist.artist_id = artist.id\n",
    "    ORDER BY track.title\n",
    "    LIMIT 3;"
   ]
  },
  {
   "cell_type": "markdown",
   "id": "7586430c-78d3-42a5-a327-5a1e65501407",
   "metadata": {},
   "source": [
    "<span style='color:green; font-size:20px'>&#x2705;&ensp;Success!&ensp;&#x1F389;</span>"
   ]
  },
  {
   "cell_type": "markdown",
   "id": "a22e78a5-aee5-41ad-aa11-76183ed8969c",
   "metadata": {},
   "source": [
    "<p style='color:red; font-size:22px'>Make sure you CLOSE all connections once you're done:</p>"
   ]
  },
  {
   "cell_type": "code",
   "execution_count": 26,
   "id": "cd8f71ae-fadf-4cc7-83b2-2dc8466875f7",
   "metadata": {},
   "outputs": [
    {
     "data": {
      "text/plain": [
       "[None]"
      ]
     },
     "execution_count": 26,
     "metadata": {},
     "output_type": "execute_result"
    }
   ],
   "source": [
    "magic_connections = %sql -l\n",
    "[c.session.close() for c in magic_connections.values()]"
   ]
  },
  {
   "cell_type": "code",
   "execution_count": 27,
   "id": "8a4bf55d-ff75-438a-a1d5-e68ef37b38cf",
   "metadata": {
    "tags": []
   },
   "outputs": [],
   "source": [
    "session.close()\n",
    "engine = session.get_bind()\n",
    "engine.dispose() \n",
    "file_obj.close()\n",
    "cur.close()\n",
    "conn.close()"
   ]
  }
 ],
 "metadata": {
  "kernelspec": {
   "display_name": "Python 3 (ipykernel)",
   "language": "python",
   "name": "python3"
  },
  "language_info": {
   "codemirror_mode": {
    "name": "ipython",
    "version": 3
   },
   "file_extension": ".py",
   "mimetype": "text/x-python",
   "name": "python",
   "nbconvert_exporter": "python",
   "pygments_lexer": "ipython3",
   "version": "3.11.0"
  }
 },
 "nbformat": 4,
 "nbformat_minor": 5
}
