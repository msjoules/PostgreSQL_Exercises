{
 "cells": [
  {
   "cell_type": "markdown",
   "id": "b26fdb96-5311-41d2-8160-2857e2f1a58e",
   "metadata": {},
   "source": [
    "# University of Michigan Intermediate PostgreSQL Week 2 Exercise\n",
    "\n",
    "## Unesco Heritage Sites Many-to-One\n",
    "\n",
    "In this assignment you will read some Unesco Heritage Site data in comma-separated-values (CSV) format and produce properly normalized tables as specified below.\n",
    "\n",
    "Here is the structure of the tables you will need for this assignment:\n",
    "\n",
    "```SQL\n",
    "DROP TABLE IF EXISTS unesco_raw;\n",
    "CREATE TABLE unesco_raw (\n",
    "    name TEXT, \n",
    "    description TEXT, \n",
    "    justification TEXT, \n",
    "    year INTEGER,\n",
    "    longitude FLOAT, \n",
    "    latitude FLOAT, \n",
    "    area_hectares FLOAT,\n",
    "    category TEXT, \n",
    "    category_id INTEGER, \n",
    "    state TEXT, \n",
    "    state_id INTEGER,\n",
    "    region TEXT, \n",
    "    region_id INTEGER, \n",
    "    iso TEXT, \n",
    "    iso_id INTEGER);\n",
    "\n",
    "CREATE TABLE category (\n",
    "  id SERIAL,\n",
    "  name VARCHAR(128) UNIQUE,\n",
    "  PRIMARY KEY(id)\n",
    ");\n",
    "... More tables needed\n",
    "```\n",
    "\n",
    "If you run the program multiple times in testing or with different files, make sure to empty out the data before each run.\n",
    "\n",
    "Your assignment consists of:\n",
    "\n",
    "1. Loading the <a href='https://www.pg4e.com/tools/sql/whc-sites-2018-small.csv?PHPSESSID=c1287267e05e2987f9ba9211319fb45c%22'>CSV data</a> for this assignment using the following copy command:\n",
    "\n",
    "```SQL\n",
    "\\copy unesco_raw(name,description,justification,year,longitude,latitude,area_hectares,category,state,region,iso) FROM 'whc-sites-2018-small.csv' WITH DELIMITER ',' CSV HEADER;\n",
    "```\n",
    "\n",
    "&ensp;&ensp;Note:</u></b>\n",
    "- Adding HEADER causes the CSV loader to skip the first line in the CSV file. \n",
    "- The `\\copy` command must be on <b>one</b> long line.\n",
    "\n",
    "2. Normalize the data in the <span style='color:green'>unesco_raw table</span> by adding the entries to each of the lookup tables (category, etc.).\n",
    "\n",
    "3. Add the foreign key columns to the <span style='color:green'>unesco_raw table</span>. \n",
    "\n",
    "4. Make a new table called <span style='color:green'>unesco</span> that removes all of the un-normalized redundant text columns like category, etc.\n",
    "\n",
    "5. To grade this assignment, the auto-grader will run a query like this on your database: \n",
    "\n",
    "```SQL\n",
    "SELECT unesco.name, year, category.name, state.name, region.name, iso.name\n",
    "  FROM unesco\n",
    "  JOIN category ON unesco.category_id = category.id\n",
    "  JOIN iso ON unesco.iso_id = iso.id\n",
    "  JOIN state ON unesco.state_id = state.id\n",
    "  JOIN region ON unesco.region_id = region.id\n",
    "  ORDER BY region.name, unesco.name\n",
    "  LIMIT 3;\n",
    "```\n",
    "\n",
    "The expected result of this query on your database is:\n",
    "\n",
    "| Name\t| Year  | Category | State | Region | iso  |\n",
    "| :---- | :---- | :----    | :---- | :----  | :----|\n",
    "| Khomani Cultural Landscape | 2017 | Cultural | South Africa | Africa | za |\n",
    "| Aapravasi Ghat | 2006 | Cultural | Mauritius | Africa | mu|\n",
    "| Air and T n r Natural Reserves | 1991 | Natural | Niger | Africa | ne |\n"
   ]
  },
  {
   "cell_type": "markdown",
   "id": "c99d4ee2-3483-49a5-ab1e-fa2d02fdcd6e",
   "metadata": {},
   "source": [
    "This notebook uses both the IPython magic `%sql` and `%%sql` as well as the Psycopg2 DBAPI.  The reason why I chose to use both is because I like the simplicity of the IPython magic but I haven't figured out a way to copy CSV files using the magics.  Thus, I have to rely on Psycopg2's interface for this purpose.  "
   ]
  },
  {
   "cell_type": "markdown",
   "id": "ad727bf8-cd53-4fa9-b97d-18682d40785d",
   "metadata": {},
   "source": [
    "### Setting Up The Connection"
   ]
  },
  {
   "cell_type": "code",
   "execution_count": 1,
   "id": "87867765-7b29-4643-9f8b-3019e2c475f5",
   "metadata": {},
   "outputs": [],
   "source": [
    "# Import necessary libraries\n",
    "# courses_db_user_julia contains the PostgreSQL settings as a dictionary file for privacy \n",
    "# Import some libraries\n",
    "\n",
    "import sqlalchemy\n",
    "from sqlalchemy import create_engine\n",
    "from sqlalchemy.orm import sessionmaker\n",
    "from courses_db_user_julia import postgresql as settings\n",
    "from pgspecial.main import PGSpecial\n",
    "import psycopg2 as ps\n",
    "import pandas as pd"
   ]
  },
  {
   "cell_type": "code",
   "execution_count": 2,
   "id": "b06ef444-e5b4-4e11-89da-47326b7158f0",
   "metadata": {},
   "outputs": [
    {
     "data": {
      "text/plain": [
       "'1.4.46'"
      ]
     },
     "execution_count": 2,
     "metadata": {},
     "output_type": "execute_result"
    }
   ],
   "source": [
    "# Get Version\n",
    "\n",
    "sqlalchemy.__version__ "
   ]
  },
  {
   "cell_type": "code",
   "execution_count": 3,
   "id": "a6ca1ec6-3d17-458c-9913-13b1a6e1d178",
   "metadata": {},
   "outputs": [],
   "source": [
    "# Create a get_engine function to get our credentials and create an engine\n",
    "\n",
    "def get_engine(user, passwd, host, port, db):\n",
    "    url = f\"postgresql://{user}:{passwd}@{host}:{port}/{db}\"\n",
    "    engine = create_engine(url)\n",
    "    return engine"
   ]
  },
  {
   "cell_type": "code",
   "execution_count": 4,
   "id": "cac89178-acf7-458b-a30e-55f077c82312",
   "metadata": {},
   "outputs": [],
   "source": [
    "engine = get_engine(settings['user'],\n",
    "          settings['password'],\n",
    "          settings['host'],\n",
    "          settings['port'],\n",
    "          settings['dbname'])"
   ]
  },
  {
   "cell_type": "code",
   "execution_count": 5,
   "id": "99f971c4-e966-496f-87cb-9efc676f072e",
   "metadata": {},
   "outputs": [
    {
     "data": {
      "text/plain": [
       "<sqlalchemy.orm.session.Session at 0x7fdea3431110>"
      ]
     },
     "execution_count": 5,
     "metadata": {},
     "output_type": "execute_result"
    }
   ],
   "source": [
    "# Start Session\n",
    "\n",
    "session = sessionmaker(bind=engine)()\n",
    "session"
   ]
  },
  {
   "cell_type": "markdown",
   "id": "b8448819-a6a9-4669-abe3-564aa0d30d3e",
   "metadata": {},
   "source": [
    "#### IPython Magic!"
   ]
  },
  {
   "cell_type": "code",
   "execution_count": 6,
   "id": "ea26d5b5-373c-4862-91a1-7150d4daae6a",
   "metadata": {},
   "outputs": [],
   "source": [
    "# Load IPython-SQL module\n",
    "\n",
    "%load_ext sql"
   ]
  },
  {
   "cell_type": "code",
   "execution_count": 7,
   "id": "906e1e57-82ff-4db9-8c73-4db858c3051c",
   "metadata": {
    "tags": []
   },
   "outputs": [],
   "source": [
    "# Create the connection using $\n",
    "# The $ is a special character in IPython SQL that encloses variables with quotes\n",
    "\n",
    "%sql $engine.url"
   ]
  },
  {
   "cell_type": "code",
   "execution_count": 8,
   "id": "269d0ac9-3df3-4b35-9e44-ca37606a1bb1",
   "metadata": {},
   "outputs": [],
   "source": [
    "# Remove connection display when using magics\n",
    "\n",
    "%config SqlMagic.displaycon = False"
   ]
  },
  {
   "cell_type": "markdown",
   "id": "4fd014e5-c4ca-48ea-ba66-665594c1776d",
   "metadata": {},
   "source": [
    "### 0. Create Tables\n",
    "\n",
    "Per the instructions above, we are to create the following tables:\n",
    "\n",
    "- unesco_raw\n",
    "- category\n",
    "- and more including:\n",
    "    - state\n",
    "    - region\n",
    "    - iso"
   ]
  },
  {
   "cell_type": "code",
   "execution_count": 9,
   "id": "8f9e545b-007b-49e6-8f94-ba658c604542",
   "metadata": {
    "tags": []
   },
   "outputs": [
    {
     "name": "stdout",
     "output_type": "stream",
     "text": [
      "Done.\n",
      "Done.\n",
      "Done.\n",
      "Done.\n",
      "Done.\n",
      "Done.\n",
      "Done.\n",
      "Done.\n",
      "Done.\n",
      "Done.\n"
     ]
    },
    {
     "data": {
      "text/plain": [
       "[]"
      ]
     },
     "execution_count": 9,
     "metadata": {},
     "output_type": "execute_result"
    }
   ],
   "source": [
    "%%sql\n",
    "\n",
    "DROP TABLE IF EXISTS unesco_raw;\n",
    "CREATE TABLE unesco_raw (\n",
    "    name TEXT, \n",
    "    description TEXT, \n",
    "    justification TEXT, \n",
    "    year INTEGER,\n",
    "    longitude FLOAT, \n",
    "    latitude FLOAT, \n",
    "    area_hectares FLOAT,\n",
    "    category TEXT, \n",
    "    category_id INTEGER, \n",
    "    state TEXT, \n",
    "    state_id INTEGER,\n",
    "    region TEXT, \n",
    "    region_id INTEGER, \n",
    "    iso TEXT, \n",
    "    iso_id INTEGER);\n",
    "\n",
    "DROP TABLE IF EXISTS category CASCADE;\n",
    "CREATE TABLE category (\n",
    "  id SERIAL,\n",
    "  name VARCHAR(128) UNIQUE,\n",
    "  PRIMARY KEY(id)\n",
    ");\n",
    "\n",
    "DROP TABLE IF EXISTS state CASCADE;\n",
    "CREATE TABLE state (\n",
    "  id SERIAL,\n",
    "  name VARCHAR(128) UNIQUE,\n",
    "  PRIMARY KEY(id)\n",
    ");\n",
    "\n",
    "DROP TABLE IF EXISTS region CASCADE;\n",
    "CREATE TABLE region (\n",
    "  id SERIAL,\n",
    "  name VARCHAR(128) UNIQUE,\n",
    "  PRIMARY KEY(id)\n",
    ");\n",
    "\n",
    "DROP TABLE IF EXISTS iso CASCADE;\n",
    "CREATE TABLE iso (\n",
    "  id SERIAL,\n",
    "  name VARCHAR(128) UNIQUE,\n",
    "  PRIMARY KEY(id)\n",
    ");"
   ]
  },
  {
   "cell_type": "markdown",
   "id": "21276e8e-8ca4-4ee5-a269-935f28391d09",
   "metadata": {},
   "source": [
    "### 1. Load the CSV data for this assignment into the unesco_raw table\n",
    "\n",
    "Now we need to copy the <span style='color:pink'>unesco_raw data</span> into the <span style='color:green'>unesco_raw table</span>.  This can be done using the `\\copy` function in the PostgreSQL psql <b><u>terminal</u></b>.  The reason we use `\\copy` as opposed to `COPY` is because `COPY FROM` instructs the PostgreSQL <b>server</b> process to read a file. Whereas the `\\copy` is used on the <b>client</b> side.\n",
    "\n",
    "However, this doesn't seem to work here using IPython magic.  So, we will use Psycopg2.  The basic steps are:\n",
    "\n",
    "- 1a) Create a Psycopg2 connection object\n",
    "- 1b) Create a dump file object\n",
    "- 1c) Create a cursor object\n",
    "- 1d) Use the `cursor.copy_expert()` function to copy the csv file"
   ]
  },
  {
   "cell_type": "markdown",
   "id": "429477ff-921d-40a1-9609-801f94c16c34",
   "metadata": {},
   "source": [
    "#### 1a) Create a Psycopg2 connection object"
   ]
  },
  {
   "cell_type": "code",
   "execution_count": 10,
   "id": "828ddc16-9dd6-42df-a274-4b2e77d2082a",
   "metadata": {},
   "outputs": [],
   "source": [
    "conn = ps.connect(user=settings['user'],\n",
    "          password=settings['password'],\n",
    "          host=settings['host'],\n",
    "          port=settings['port'],\n",
    "          dbname=settings['dbname'])"
   ]
  },
  {
   "cell_type": "markdown",
   "id": "4d786852-25a4-4a02-a059-7edb96e35f53",
   "metadata": {},
   "source": [
    "#### 1b) Create a dump file object"
   ]
  },
  {
   "cell_type": "code",
   "execution_count": 11,
   "id": "25d039ec-7e27-445d-bf53-9d1b3dae9289",
   "metadata": {},
   "outputs": [],
   "source": [
    "# Create a file object where we will dump our csv file to \n",
    "# This will allow us to copy the dump into our table\n",
    "\n",
    "file_obj = open('/mnt/a/docker_share/sql/whc-sites-2018-small.csv', 'r') "
   ]
  },
  {
   "cell_type": "markdown",
   "id": "04ab82b9-8165-4715-a95a-f731e6cd8abd",
   "metadata": {},
   "source": [
    "#### 1c) Create a cursor object\n",
    "\n",
    "Psycopg2 requires the use of a cursor object in order to execute commands to the PostgreSQL server."
   ]
  },
  {
   "cell_type": "code",
   "execution_count": 12,
   "id": "fe079c60-05f9-438e-8ebd-2261ad9794e8",
   "metadata": {},
   "outputs": [],
   "source": [
    "cur = conn.cursor()"
   ]
  },
  {
   "cell_type": "markdown",
   "id": "8c44cbc3-72c8-472e-a0d7-23ba75312cc9",
   "metadata": {},
   "source": [
    "#### 1d) Use the cursor.copy_expert() function to copy our csv file\n",
    "\n",
    "In general, the basic syntax is: &ensp;`.copy_expert(sql, file)`\n",
    "\n",
    "More specifically...\n",
    "\n",
    "-------------\n",
    "The basic syntax to copy <b><u>FROM</u></b> a file to a table is: \n",
    "\n",
    "(note: STDIN is short for standard input -- STDIN is an input stream where data is sent to and read by a program)\n",
    "\n",
    "```Python\n",
    "connection.cursor.copy_expert (\n",
    "  \"COPY table_where_csv_data_goes\n",
    "  FROM STDIN\n",
    "  WITH (\n",
    "    FORMAT CSV,\n",
    "    DELIMITER ',',\n",
    "    HEADER\n",
    "    );\",\n",
    "  file_object\n",
    "  )\n",
    "```\n",
    "\n",
    "--------------\n",
    "The basic syntax to copy a table <b><u>OUT</u></b> to save a file:\n",
    "\n",
    "(note: STDOUT is short for standard output -- STDOUT is an output stream where data is sent to and read by a program)\n",
    "\n",
    "```Python\n",
    "connection.cursor.copy_expert (\n",
    "  \"COPY table_to_save\n",
    "  TO STDOUT\n",
    "  WITH (\n",
    "    FORMAT CSV,\n",
    "    DELIMITER ',',\n",
    "    HEADER\n",
    ");\",\n",
    "  file_object\n",
    "  )\n",
    "```\n",
    "\n",
    "<p style='color:orange'>Change the format, delimiter and/or header as required.</p>"
   ]
  },
  {
   "cell_type": "markdown",
   "id": "96263383-12b5-470e-9ecc-3a9d1a25c05d",
   "metadata": {},
   "source": [
    "#### 1d) Use the `cursor.copy_expert()` function to copy the csv file"
   ]
  },
  {
   "cell_type": "code",
   "execution_count": 13,
   "id": "a9a8160d-d350-4438-b208-ed61dcf9d42b",
   "metadata": {},
   "outputs": [
    {
     "name": "stdout",
     "output_type": "stream",
     "text": [
      "0 rows affected.\n"
     ]
    },
    {
     "data": {
      "text/html": [
       "<table>\n",
       "    <tr>\n",
       "        <th>name</th>\n",
       "        <th>description</th>\n",
       "        <th>justification</th>\n",
       "        <th>year</th>\n",
       "        <th>longitude</th>\n",
       "        <th>latitude</th>\n",
       "        <th>area_hectares</th>\n",
       "        <th>category</th>\n",
       "        <th>category_id</th>\n",
       "        <th>state</th>\n",
       "        <th>state_id</th>\n",
       "        <th>region</th>\n",
       "        <th>region_id</th>\n",
       "        <th>iso</th>\n",
       "        <th>iso_id</th>\n",
       "    </tr>\n",
       "</table>"
      ],
      "text/plain": [
       "[]"
      ]
     },
     "execution_count": 13,
     "metadata": {},
     "output_type": "execute_result"
    }
   ],
   "source": [
    "# Check if there is any data in the unesco_raw table -- there shouldn't be \n",
    "\n",
    "%sql SELECT * FROM unesco_raw LIMIT 1;"
   ]
  },
  {
   "cell_type": "code",
   "execution_count": 14,
   "id": "666bb6cf-e2f0-4ad8-899b-d2093fee575c",
   "metadata": {},
   "outputs": [],
   "source": [
    "# Copy the data from the input stream to the track_raw table\n",
    "\n",
    "cur.copy_expert(\"COPY unesco_raw(name,description,justification,year,longitude,latitude,area_hectares,category,state,region,iso) FROM STDIN WITH (FORMAT CSV, DELIMITER ',', HEADER);\", file_obj)"
   ]
  },
  {
   "cell_type": "markdown",
   "id": "b7b91ed3-d292-436f-a491-1ffbb5e64bf4",
   "metadata": {},
   "source": [
    "<p><span style='color:red; font-size:20px'>&#x26A0;&ensp;Error?</span> &ensp;&ensp;&ensp; You need to rollback the command or nothing else will execute.</p>"
   ]
  },
  {
   "cell_type": "code",
   "execution_count": null,
   "id": "32b1f601-0d73-4b69-8851-9e78dd5921e1",
   "metadata": {},
   "outputs": [],
   "source": [
    "# If you make a mistake or there is an error issue this command\n",
    "\n",
    "conn.rollback()"
   ]
  },
  {
   "cell_type": "markdown",
   "id": "aea3843b-2e0c-4b3e-98e7-e745c70fd8f7",
   "metadata": {},
   "source": [
    "<span style='color:green; font-size:20px'>&#x2705;&ensp;Everything OK?</span>&ensp;&ensp;&ensp; Commit!"
   ]
  },
  {
   "cell_type": "code",
   "execution_count": 15,
   "id": "9081b277-985a-46e7-8d72-801da43a98ba",
   "metadata": {},
   "outputs": [],
   "source": [
    "# If everything works and you want it to stick issue this command\n",
    "\n",
    "conn.commit()"
   ]
  },
  {
   "cell_type": "code",
   "execution_count": 16,
   "id": "09679aa5-4bc2-4b0a-8f2c-bb2465067893",
   "metadata": {},
   "outputs": [
    {
     "name": "stdout",
     "output_type": "stream",
     "text": [
      "3 rows affected.\n"
     ]
    },
    {
     "data": {
      "text/html": [
       "<table>\n",
       "    <tr>\n",
       "        <th>name</th>\n",
       "        <th>year</th>\n",
       "        <th>category</th>\n",
       "        <th>state</th>\n",
       "        <th>region</th>\n",
       "        <th>iso</th>\n",
       "    </tr>\n",
       "    <tr>\n",
       "        <td>Cultural Landscape and Archaeological Remains of the Bamiyan Valley</td>\n",
       "        <td>2003</td>\n",
       "        <td>Cultural</td>\n",
       "        <td>Afghanistan</td>\n",
       "        <td>Asia and the Pacific</td>\n",
       "        <td>af</td>\n",
       "    </tr>\n",
       "    <tr>\n",
       "        <td>Minaret and Archaeological Remains of Jam</td>\n",
       "        <td>2002</td>\n",
       "        <td>Cultural</td>\n",
       "        <td>Afghanistan</td>\n",
       "        <td>Asia and the Pacific</td>\n",
       "        <td>af</td>\n",
       "    </tr>\n",
       "    <tr>\n",
       "        <td>Historic Centres of Berat and Gjirokastra </td>\n",
       "        <td>2005</td>\n",
       "        <td>Cultural</td>\n",
       "        <td>Albania</td>\n",
       "        <td>Europe and North America</td>\n",
       "        <td>al</td>\n",
       "    </tr>\n",
       "</table>"
      ],
      "text/plain": [
       "[('Cultural Landscape and Archaeological Remains of the Bamiyan Valley', 2003, 'Cultural', 'Afghanistan', 'Asia and the Pacific', 'af'),\n",
       " ('Minaret and Archaeological Remains of Jam', 2002, 'Cultural', 'Afghanistan', 'Asia and the Pacific', 'af'),\n",
       " ('Historic Centres of Berat and Gjirokastra ', 2005, 'Cultural', 'Albania', 'Europe and North America', 'al')]"
      ]
     },
     "execution_count": 16,
     "metadata": {},
     "output_type": "execute_result"
    }
   ],
   "source": [
    "# Test to make sure everything worked\n",
    "\n",
    "%sql SELECT name, year, category, state, region, iso FROM unesco_raw LIMIT 3;"
   ]
  },
  {
   "cell_type": "markdown",
   "id": "21832050-d4a2-4dfb-9ec1-8825c0fa7cc7",
   "metadata": {},
   "source": [
    "Just as an FYI, it's also possible to use Psycopg2 to run other SQL commands.  This is done by the `cursor.execute()` function.  Multiple SQL commands can be sent at once.\n",
    "\n",
    "For example:\n",
    "\n",
    "```Python\n",
    "cursor.execute (\"\"\"\n",
    "    \n",
    "DROP TABLE IF EXISTS unesco_raw;\n",
    "\n",
    "CREATE TABLE unesco_raw\n",
    " (name TEXT, description TEXT, justification TEXT, year INTEGER,\n",
    "    longitude FLOAT, latitude FLOAT, area_hectares FLOAT,\n",
    "    category TEXT, category_id INTEGER, state TEXT, state_id INTEGER,\n",
    "    region TEXT, region_id INTEGER, iso TEXT, iso_id INTEGER);\n",
    "\"\"\")\n",
    "```\n"
   ]
  },
  {
   "cell_type": "markdown",
   "id": "d20a491b-5688-4770-a9d7-84aa6e910aad",
   "metadata": {},
   "source": [
    "### 2. Normalize the data in the unesco_raw table by adding the entries to each of the lookup tables (category, etc.).\n",
    "\n",
    "First, recall the schemas:"
   ]
  },
  {
   "cell_type": "code",
   "execution_count": 17,
   "id": "d6370abd-ee80-4375-bfa3-e9a7d0f5d976",
   "metadata": {},
   "outputs": [
    {
     "name": "stdout",
     "output_type": "stream",
     "text": [
      "2 rows affected.\n",
      "Returning data to local variable category_schema\n"
     ]
    }
   ],
   "source": [
    "%%sql category_schema <<\n",
    "\n",
    "SELECT \n",
    "   column_name, \n",
    "   data_type \n",
    "FROM \n",
    "   information_schema.columns\n",
    "WHERE \n",
    "   table_name = 'category';"
   ]
  },
  {
   "cell_type": "code",
   "execution_count": 18,
   "id": "8a8d58a0-1049-46d1-a7a2-a6f2f5bda939",
   "metadata": {},
   "outputs": [
    {
     "name": "stdout",
     "output_type": "stream",
     "text": [
      "2 rows affected.\n",
      "Returning data to local variable state_schema\n"
     ]
    }
   ],
   "source": [
    "%%sql state_schema <<\n",
    "\n",
    "SELECT \n",
    "   column_name, \n",
    "   data_type \n",
    "FROM \n",
    "   information_schema.columns\n",
    "WHERE \n",
    "   table_name = 'state';"
   ]
  },
  {
   "cell_type": "code",
   "execution_count": 19,
   "id": "0c888907-8812-4844-9ffe-4cca7feb1fa5",
   "metadata": {},
   "outputs": [
    {
     "name": "stdout",
     "output_type": "stream",
     "text": [
      "2 rows affected.\n",
      "Returning data to local variable region_schema\n"
     ]
    }
   ],
   "source": [
    "%%sql region_schema <<\n",
    "\n",
    "SELECT \n",
    "   column_name, \n",
    "   data_type \n",
    "FROM \n",
    "   information_schema.columns\n",
    "WHERE \n",
    "   table_name = 'region';"
   ]
  },
  {
   "cell_type": "code",
   "execution_count": 20,
   "id": "5afbd2b6-a0b0-4a1f-b968-ae3de45356c1",
   "metadata": {},
   "outputs": [
    {
     "name": "stdout",
     "output_type": "stream",
     "text": [
      "2 rows affected.\n",
      "Returning data to local variable iso_schema\n"
     ]
    }
   ],
   "source": [
    "%%sql iso_schema <<  \n",
    "    \n",
    "SELECT  \n",
    "   column_name, \n",
    "   data_type \n",
    "FROM \n",
    "   information_schema.columns\n",
    "WHERE \n",
    "   table_name = 'iso';"
   ]
  },
  {
   "cell_type": "code",
   "execution_count": 21,
   "id": "b68c91be-0153-41c6-9ea7-ca23c0bba21c",
   "metadata": {},
   "outputs": [
    {
     "name": "stdout",
     "output_type": "stream",
     "text": [
      "Category Schema:\n",
      " +-------------+-------------------+\n",
      "| column_name |     data_type     |\n",
      "+-------------+-------------------+\n",
      "|      id     |      integer      |\n",
      "|     name    | character varying |\n",
      "+-------------+-------------------+ \n",
      " State Schema\n",
      ": +-------------+-------------------+\n",
      "| column_name |     data_type     |\n",
      "+-------------+-------------------+\n",
      "|      id     |      integer      |\n",
      "|     name    | character varying |\n",
      "+-------------+-------------------+ \n",
      " Region Schema\n",
      ": +-------------+-------------------+\n",
      "| column_name |     data_type     |\n",
      "+-------------+-------------------+\n",
      "|      id     |      integer      |\n",
      "|     name    | character varying |\n",
      "+-------------+-------------------+ \n",
      " iso Schema\n",
      ": +-------------+-------------------+\n",
      "| column_name |     data_type     |\n",
      "+-------------+-------------------+\n",
      "|      id     |      integer      |\n",
      "|     name    | character varying |\n",
      "+-------------+-------------------+\n"
     ]
    }
   ],
   "source": [
    "print('Category Schema:\\n {} \\n State Schema\\n: {} \\n Region Schema\\n: {} \\n iso Schema\\n: {}'.format(category_schema, state_schema, region_schema, iso_schema))"
   ]
  },
  {
   "cell_type": "code",
   "execution_count": 22,
   "id": "88dc02a0-979a-44fc-9cfa-ef6fedc94359",
   "metadata": {},
   "outputs": [
    {
     "name": "stdout",
     "output_type": "stream",
     "text": [
      "3 rows affected.\n",
      "163 rows affected.\n",
      "5 rows affected.\n",
      "163 rows affected.\n"
     ]
    },
    {
     "data": {
      "text/plain": [
       "[]"
      ]
     },
     "execution_count": 22,
     "metadata": {},
     "output_type": "execute_result"
    }
   ],
   "source": [
    "%%sql\n",
    "\n",
    "INSERT INTO category (name) SELECT DISTINCT category FROM unesco_raw;\n",
    "INSERT INTO state (name) SELECT DISTINCT state FROM unesco_raw;\n",
    "INSERT INTO region (name) SELECT DISTINCT region FROM unesco_raw;\n",
    "INSERT INTO iso (name) SELECT DISTINCT iso FROM unesco_raw;"
   ]
  },
  {
   "cell_type": "markdown",
   "id": "31719acc-ad40-4897-aa24-948d6785ba0f",
   "metadata": {},
   "source": [
    "Verify it worked:"
   ]
  },
  {
   "cell_type": "code",
   "execution_count": 23,
   "id": "acec744b-cf19-4996-9d6d-8c33cbcb4e05",
   "metadata": {},
   "outputs": [
    {
     "name": "stdout",
     "output_type": "stream",
     "text": [
      "1 rows affected.\n",
      "Returning data to local variable category_name\n",
      "1 rows affected.\n",
      "Returning data to local variable state_name\n",
      "1 rows affected.\n",
      "Returning data to local variable region_name\n",
      "1 rows affected.\n",
      "Returning data to local variable iso_name\n"
     ]
    }
   ],
   "source": [
    "%sql category_name << SELECT * FROM category LIMIT 1;\n",
    "%sql state_name << SELECT * FROM state LIMIT 1;\n",
    "%sql region_name << SELECT * FROM region LIMIT 1;\n",
    "%sql iso_name << SELECT * FROM iso LIMIT 1;   "
   ]
  },
  {
   "cell_type": "code",
   "execution_count": 24,
   "id": "17066c6b-bd39-40e3-9c02-74efcf12979e",
   "metadata": {},
   "outputs": [
    {
     "name": "stdout",
     "output_type": "stream",
     "text": [
      "Category:\n",
      " +----+-------+\n",
      "| id |  name |\n",
      "+----+-------+\n",
      "| 1  | Mixed |\n",
      "+----+-------+ \n",
      " State:\n",
      " +----+-----------+\n",
      "| id |    name   |\n",
      "+----+-----------+\n",
      "| 1  | Indonesia |\n",
      "+----+-----------+ \n",
      " Region:\n",
      " +----+----------------------+\n",
      "| id |         name         |\n",
      "+----+----------------------+\n",
      "| 1  | Asia and the Pacific |\n",
      "+----+----------------------+ \n",
      " iso:\n",
      " +----+------+\n",
      "| id | name |\n",
      "+----+------+\n",
      "| 1  |  sm  |\n",
      "+----+------+\n"
     ]
    }
   ],
   "source": [
    " print('Category:\\n {} \\n State:\\n {} \\n Region:\\n {} \\n iso:\\n {}'.format(category_name, state_name, region_name, iso_name))"
   ]
  },
  {
   "cell_type": "markdown",
   "id": "2cfcc203-7f92-4fa7-b683-34fcc4127918",
   "metadata": {},
   "source": [
    "### 3. Add the foreign key columns to the unesco_raw table\n",
    "\n",
    "Recall, the foreign keys are category_id, state_id, region_id & iso_id"
   ]
  },
  {
   "cell_type": "code",
   "execution_count": 25,
   "id": "b9f1f90f-f959-465a-bb0c-17b61c32f377",
   "metadata": {},
   "outputs": [
    {
     "name": "stdout",
     "output_type": "stream",
     "text": [
      "1044 rows affected.\n",
      "1 rows affected.\n"
     ]
    },
    {
     "data": {
      "text/html": [
       "<table>\n",
       "    <tr>\n",
       "        <th>category_id</th>\n",
       "        <th>state_id</th>\n",
       "        <th>region_id</th>\n",
       "        <th>iso_id</th>\n",
       "    </tr>\n",
       "    <tr>\n",
       "        <td>3</td>\n",
       "        <td>27</td>\n",
       "        <td>5</td>\n",
       "        <td>70</td>\n",
       "    </tr>\n",
       "</table>"
      ],
      "text/plain": [
       "[(3, 27, 5, 70)]"
      ]
     },
     "execution_count": 25,
     "metadata": {},
     "output_type": "execute_result"
    }
   ],
   "source": [
    "%%sql\n",
    "\n",
    "UPDATE unesco_raw \n",
    "SET \n",
    "category_id = (SELECT category.id FROM category WHERE category.name = unesco_raw.category),\n",
    "state_id = (SELECT state.id FROM state WHERE state.name = unesco_raw.state),\n",
    "region_id = (SELECT region.id FROM region WHERE region.name = unesco_raw.region),\n",
    "iso_id = (SELECT iso.id FROM iso WHERE iso.name = unesco_raw.iso);\n",
    "\n",
    "-- Verify\n",
    "SELECT category_id, state_id, region_id, iso_id FROM unesco_raw LIMIT 1;"
   ]
  },
  {
   "cell_type": "markdown",
   "id": "11cb0475-0e33-47be-95cd-2dd2fa403cb7",
   "metadata": {},
   "source": [
    "### 4. Make a new table called unesco that removes all of the un-normalized redundant text columns like category, etc.\n",
    "\n",
    "We first need to create the table schema:"
   ]
  },
  {
   "cell_type": "code",
   "execution_count": 26,
   "id": "297c1fe4-5811-4cf3-a3e3-cee4238ed8b1",
   "metadata": {},
   "outputs": [
    {
     "name": "stdout",
     "output_type": "stream",
     "text": [
      "Done.\n"
     ]
    },
    {
     "data": {
      "text/plain": [
       "[]"
      ]
     },
     "execution_count": 26,
     "metadata": {},
     "output_type": "execute_result"
    }
   ],
   "source": [
    "%%sql\n",
    "\n",
    "CREATE TABLE IF NOT EXISTS unesco (\n",
    "  id SERIAL,\n",
    "  name TEXT,\n",
    "  description TEXT,\n",
    "  justification TEXT, \n",
    "  year INTEGER,\n",
    "  longitude FLOAT, \n",
    "  latitude FLOAT, \n",
    "  area_hectares FLOAT,\n",
    "  category_id INT,\n",
    "  state_id INT,\n",
    "  region_id INT,\n",
    "  iso_id INT\n",
    ");"
   ]
  },
  {
   "cell_type": "markdown",
   "id": "0fbb3632-76c9-4858-926a-325e71817de0",
   "metadata": {},
   "source": [
    "Now we can insert the necessary data from the <span style='color:green'>unesco_raw</sapn> table:"
   ]
  },
  {
   "cell_type": "code",
   "execution_count": 27,
   "id": "796b39c7-a59a-45e5-9f8f-d507e21ba6ee",
   "metadata": {},
   "outputs": [
    {
     "name": "stdout",
     "output_type": "stream",
     "text": [
      "1044 rows affected.\n"
     ]
    },
    {
     "data": {
      "text/plain": [
       "[]"
      ]
     },
     "execution_count": 27,
     "metadata": {},
     "output_type": "execute_result"
    }
   ],
   "source": [
    "%%sql\n",
    "\n",
    "INSERT INTO unesco (\n",
    "  name,\n",
    "  description,\n",
    "  justification, \n",
    "  year,\n",
    "  longitude, \n",
    "  latitude, \n",
    "  area_hectares,\n",
    "  category_id,\n",
    "  state_id,\n",
    "  region_id,\n",
    "  iso_id)\n",
    "SELECT \n",
    "  name,\n",
    "  description,\n",
    "  justification, \n",
    "  year,\n",
    "  longitude, \n",
    "  latitude, \n",
    "  area_hectares,\n",
    "  category_id,\n",
    "  state_id,\n",
    "  region_id,\n",
    "  iso_id\n",
    "FROM\n",
    "  unesco_raw;"
   ]
  },
  {
   "cell_type": "markdown",
   "id": "1fae866f-9273-4531-9276-c903fb2d2672",
   "metadata": {},
   "source": [
    "### 5. To grade this assignment, the auto-grader will run a query like this on your database:\n",
    " \n",
    "```SQL\n",
    "SELECT unesco.name, year, category.name, state.name, region.name, iso.name\n",
    "  FROM unesco\n",
    "  JOIN category ON unesco.category_id = category.id\n",
    "  JOIN iso ON unesco.iso_id = iso.id\n",
    "  JOIN state ON unesco.state_id = state.id\n",
    "  JOIN region ON unesco.region_id = region.id\n",
    "  ORDER BY region.name, unesco.name\n",
    "  LIMIT 3;\n",
    "```\n",
    "\n",
    "The expected result of this query on your database is:\n",
    "\n",
    "| Name\t| Year  | Category | State | Region | iso  |\n",
    "| :---- | :---- | :----    | :---- | :----  | :----|\n",
    "| Khomani Cultural Landscape | 2017 | Cultural | South Africa | Africa | za |\n",
    "| Aapravasi Ghat | 2006 | Cultural | Mauritius | Africa | mu|\n",
    "| Air and T n r Natural Reserves | 1991 | Natural | Niger | Africa | ne |\n",
    "\n",
    "\n",
    "So, let's check our work (note: the AS \"...\" is used to change the column names & capitalize them to match the assignment):"
   ]
  },
  {
   "cell_type": "code",
   "execution_count": 28,
   "id": "3b9c6e47-913d-4890-8d08-23569ccda590",
   "metadata": {},
   "outputs": [
    {
     "name": "stdout",
     "output_type": "stream",
     "text": [
      "3 rows affected.\n"
     ]
    },
    {
     "data": {
      "text/html": [
       "<table>\n",
       "    <tr>\n",
       "        <th>Name</th>\n",
       "        <th>Year</th>\n",
       "        <th>Category</th>\n",
       "        <th>State</th>\n",
       "        <th>Region</th>\n",
       "        <th>iso</th>\n",
       "    </tr>\n",
       "    <tr>\n",
       "        <td> Khomani Cultural Landscape</td>\n",
       "        <td>2017</td>\n",
       "        <td>Cultural</td>\n",
       "        <td>South Africa</td>\n",
       "        <td>Africa</td>\n",
       "        <td>za</td>\n",
       "    </tr>\n",
       "    <tr>\n",
       "        <td> Khomani Cultural Landscape</td>\n",
       "        <td>2017</td>\n",
       "        <td>Cultural</td>\n",
       "        <td>South Africa</td>\n",
       "        <td>Africa</td>\n",
       "        <td>za</td>\n",
       "    </tr>\n",
       "    <tr>\n",
       "        <td>Aapravasi Ghat</td>\n",
       "        <td>2006</td>\n",
       "        <td>Cultural</td>\n",
       "        <td>Mauritius</td>\n",
       "        <td>Africa</td>\n",
       "        <td>mu</td>\n",
       "    </tr>\n",
       "</table>"
      ],
      "text/plain": [
       "[(' Khomani Cultural Landscape', 2017, 'Cultural', 'South Africa', 'Africa', 'za'),\n",
       " (' Khomani Cultural Landscape', 2017, 'Cultural', 'South Africa', 'Africa', 'za'),\n",
       " ('Aapravasi Ghat', 2006, 'Cultural', 'Mauritius', 'Africa', 'mu')]"
      ]
     },
     "execution_count": 28,
     "metadata": {},
     "output_type": "execute_result"
    }
   ],
   "source": [
    "%%sql\n",
    "\n",
    "SELECT unesco.name AS \"Name\", year AS \"Year\", category.name AS \"Category\", state.name AS \"State\", region.name AS \"Region\", iso.name AS iso\n",
    "  FROM unesco\n",
    "  JOIN category ON unesco.category_id = category.id\n",
    "  JOIN iso ON unesco.iso_id = iso.id\n",
    "  JOIN state ON unesco.state_id = state.id\n",
    "  JOIN region ON unesco.region_id = region.id\n",
    "  ORDER BY region.name, unesco.name\n",
    "  LIMIT 3;"
   ]
  },
  {
   "cell_type": "markdown",
   "id": "7586430c-78d3-42a5-a327-5a1e65501407",
   "metadata": {},
   "source": [
    "<span style='color:green; font-size:20px'>&#x2705;&ensp;Success!&ensp;&#x1F389;</span>"
   ]
  },
  {
   "cell_type": "markdown",
   "id": "a22e78a5-aee5-41ad-aa11-76183ed8969c",
   "metadata": {},
   "source": [
    "<p style='color:red; font-size:22px'>Make sure you CLOSE all connections once you're done:</p>"
   ]
  },
  {
   "cell_type": "code",
   "execution_count": 29,
   "id": "cd8f71ae-fadf-4cc7-83b2-2dc8466875f7",
   "metadata": {},
   "outputs": [
    {
     "data": {
      "text/plain": [
       "[None]"
      ]
     },
     "execution_count": 29,
     "metadata": {},
     "output_type": "execute_result"
    }
   ],
   "source": [
    "magic_connections = %sql -l\n",
    "[c.session.close() for c in magic_connections.values()]"
   ]
  },
  {
   "cell_type": "code",
   "execution_count": 30,
   "id": "8a4bf55d-ff75-438a-a1d5-e68ef37b38cf",
   "metadata": {
    "tags": []
   },
   "outputs": [],
   "source": [
    "session.close()\n",
    "engine = session.get_bind()\n",
    "engine.dispose() \n",
    "file_obj.close()\n",
    "cur.close()\n",
    "conn.close()"
   ]
  }
 ],
 "metadata": {
  "kernelspec": {
   "display_name": "Python 3 (ipykernel)",
   "language": "python",
   "name": "python3"
  },
  "language_info": {
   "codemirror_mode": {
    "name": "ipython",
    "version": 3
   },
   "file_extension": ".py",
   "mimetype": "text/x-python",
   "name": "python",
   "nbconvert_exporter": "python",
   "pygments_lexer": "ipython3",
   "version": "3.11.0"
  }
 },
 "nbformat": 4,
 "nbformat_minor": 5
}
